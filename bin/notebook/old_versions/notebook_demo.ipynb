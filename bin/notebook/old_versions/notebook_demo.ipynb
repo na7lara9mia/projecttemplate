{
 "cells": [
  {
   "cell_type": "markdown",
   "metadata": {},
   "source": [
    "<img src=\"media/logo_psa.jpg\" width=\"300\">\n",
    "\n",
    "<h1><center>Examples of app00 use</center></h1>"
   ]
  },
  {
   "cell_type": "markdown",
   "metadata": {},
   "source": [
    "#### Imports"
   ]
  },
  {
   "cell_type": "code",
   "execution_count": 20,
   "metadata": {},
   "outputs": [
    {
     "name": "stdout",
     "output_type": "stream",
     "text": [
      "The autoreload extension is already loaded. To reload it, use:\n",
      "  %reload_ext autoreload\n"
     ]
    }
   ],
   "source": [
    "%load_ext autoreload\n",
    "%autoreload 2\n",
    "import os\n",
    "import datetime\n",
    "import pandas as pd\n",
    "pd.set_option('display.max_rows', 500)\n",
    "pd.set_option('display.max_columns', 100)\n",
    "\n",
    "from pyspark.sql import functions as F"
   ]
  },
  {
   "cell_type": "markdown",
   "metadata": {},
   "source": [
    "**WARNING: Make sure to replace 'app_template' in the imports by the package_name you choosed**"
   ]
  },
  {
   "cell_type": "code",
   "execution_count": 7,
   "metadata": {},
   "outputs": [
    {
     "name": "stdout",
     "output_type": "stream",
     "text": [
      "/gpfs/user/e587247/dco00/conf/application.yml\n",
      "/gpfs/user/e587247/dco00\n"
     ]
    }
   ],
   "source": [
    "from distribution_cost.configuration import spark_config\n",
    "from distribution_cost.configuration.app import AppConfig\n",
    "from distribution_cost.configuration.data import DataConfig\n",
    "\n",
    "from distribution_cost.infra import oracle\n",
    "from distribution_cost.domain import kpis"
   ]
  },
  {
   "cell_type": "markdown",
   "metadata": {},
   "source": [
    "#### Configs"
   ]
  },
  {
   "cell_type": "code",
   "execution_count": 8,
   "metadata": {},
   "outputs": [],
   "source": [
    "# Database uri\n",
    "app_config = AppConfig()\n",
    "\n",
    "db_uri = app_config.db_uri_jdbc\n",
    "db_uri_cx_oracle = app_config.db_uri_cx_oracle"
   ]
  },
  {
   "cell_type": "code",
   "execution_count": 9,
   "metadata": {},
   "outputs": [
    {
     "data": {
      "text/plain": [
       "{'sites': ['PY', 'MU'],\n",
       " 'start_date': '15/01/20',\n",
       " 'end_date': '17/01/20',\n",
       " 'genr_door': 'EMON'}"
      ]
     },
     "execution_count": 9,
     "metadata": {},
     "output_type": "execute_result"
    }
   ],
   "source": [
    "# Data Config\n",
    "data_config = DataConfig()\n",
    "\n",
    "data_config.vhls_perimeter"
   ]
  },
  {
   "cell_type": "code",
   "execution_count": 10,
   "metadata": {},
   "outputs": [],
   "source": [
    "sites = data_config.vhls_perimeter[\"sites\"]\n",
    "start_date = data_config.vhls_perimeter[\"start_date\"]\n",
    "end_date = data_config.vhls_perimeter[\"end_date\"]\n",
    "genr_door = data_config.vhls_perimeter[\"genr_door\"]"
   ]
  },
  {
   "cell_type": "markdown",
   "metadata": {},
   "source": [
    "#### Spark session"
   ]
  },
  {
   "cell_type": "code",
   "execution_count": 11,
   "metadata": {},
   "outputs": [],
   "source": [
    "# Create spark session\n",
    "spark_context, spark_session = spark_config.get_spark(app_name=\"app-template\",\n",
    "                                                      executors=2, executor_cores=4, executor_mem='4g',\n",
    "                                                      dynamic_allocation=True, max_executors=8)"
   ]
  },
  {
   "cell_type": "markdown",
   "metadata": {},
   "source": [
    "## 1. HDFS"
   ]
  },
  {
   "cell_type": "markdown",
   "metadata": {},
   "source": [
    "### 1.1. Read"
   ]
  },
  {
   "cell_type": "code",
   "execution_count": 12,
   "metadata": {},
   "outputs": [],
   "source": [
    "# Read data from hdfs\n",
    "dirpath_prod_flow = '/user/brc05/data/refined/manf001_vehc_prdc_flow/year=2020/month=01'\n",
    "\n",
    "df_flow = spark_session.read.parquet(dirpath_prod_flow)"
   ]
  },
  {
   "cell_type": "code",
   "execution_count": 13,
   "metadata": {},
   "outputs": [],
   "source": [
    "# Filter data according to the perimeter\n",
    "df_flow = df_flow.filter(df_flow['site_code'].isin(sites)) \\\n",
    "                 .filter(df_flow['pass_date'] >= datetime.datetime.strptime(start_date, '%d/%m/%y')) \\\n",
    "                 .filter(df_flow['pass_date'] < datetime.datetime.strptime(end_date, '%d/%m/%y')) \\\n",
    "                 .filter(df_flow['genr_door'] == genr_door)"
   ]
  },
  {
   "cell_type": "code",
   "execution_count": 14,
   "metadata": {},
   "outputs": [
    {
     "data": {
      "text/plain": [
       "[Row(site_code='PY', count=790), Row(site_code='MU', count=700)]"
      ]
     },
     "execution_count": 14,
     "metadata": {},
     "output_type": "execute_result"
    }
   ],
   "source": [
    "# Compute number of vins per site\n",
    "kpis.compute_n_vins_per_site(df_flow, \"site_code\")"
   ]
  },
  {
   "cell_type": "markdown",
   "metadata": {},
   "source": [
    "### 1.2. Write"
   ]
  },
  {
   "cell_type": "code",
   "execution_count": 10,
   "metadata": {},
   "outputs": [
    {
     "data": {
      "text/plain": [
       "'/user/u542310/brc14/app00/data'"
      ]
     },
     "execution_count": 10,
     "metadata": {},
     "output_type": "execute_result"
    }
   ],
   "source": [
    "# Output dirpath\n",
    "output_dirpath = '/' + '/'.join(os.environ['DATA'].split('/')[2:])\n",
    "output_dirpath"
   ]
  },
  {
   "cell_type": "code",
   "execution_count": 11,
   "metadata": {},
   "outputs": [],
   "source": [
    "# Write only PY data to hdfs (partition by date)\n",
    "df_flow.filter(F.col(\"site_code\") == \"PY\") \\\n",
    "       .withColumn(\"year\", F.year(F.col(\"pass_date\"))) \\\n",
    "       .withColumn(\"month\", F.month(F.col(\"pass_date\"))) \\\n",
    "       .withColumn(\"day\", F.dayofmonth(F.col(\"pass_date\"))) \\\n",
    "       .coalesce(1).write.partitionBy(\"year\", \"month\", \"day\") \\\n",
    "       .parquet(output_dirpath, \"overwrite\")"
   ]
  },
  {
   "cell_type": "markdown",
   "metadata": {},
   "source": [
    "## 2. Exadata"
   ]
  },
  {
   "cell_type": "code",
   "execution_count": 16,
   "metadata": {
    "scrolled": false
   },
   "outputs": [
    {
     "data": {
      "text/plain": [
       "\"(SELECT * FROM BRC05.MANF001_VEHC_PRDC_FLOW WHERE SITE_CODE IN ('PY', 'MU') AND PASS_DATE >= to_date('15/01/20', 'dd/mm/yy') AND PASS_DATE < to_date('17/01/20', 'dd/mm/yy') AND GENR_DOOR = 'EMON')\""
      ]
     },
     "execution_count": 16,
     "metadata": {},
     "output_type": "execute_result"
    }
   ],
   "source": [
    "# SQL query based on the perimeter\n",
    "query = (\n",
    "    \"(SELECT * FROM BRC05.MANF001_VEHC_PRDC_FLOW \"\n",
    "    \"WHERE SITE_CODE IN ({}) \"\n",
    "    \"AND PASS_DATE >= to_date('{}', 'dd/mm/yy') \"\n",
    "    \"AND PASS_DATE < to_date('{}', 'dd/mm/yy') \"\n",
    "    \"AND GENR_DOOR = '{}')\"\n",
    ")\n",
    "\n",
    "query = query.format(', '.join([\"'\" + site + \"'\" for site in sites]),\n",
    "                     start_date, end_date, genr_door)\n",
    "\n",
    "query"
   ]
  },
  {
   "cell_type": "markdown",
   "metadata": {},
   "source": [
    "### 2.1. jdbc connector"
   ]
  },
  {
   "cell_type": "markdown",
   "metadata": {},
   "source": [
    "#### 2.1.1. Read"
   ]
  },
  {
   "cell_type": "code",
   "execution_count": 21,
   "metadata": {},
   "outputs": [],
   "source": [
    "# Read data from Oracle using jdbc connector\n",
    "df_flow = spark_session.read.option(\"fetchsize\", 10000).jdbc(db_uri, table=query)"
   ]
  },
  {
   "cell_type": "code",
   "execution_count": 22,
   "metadata": {},
   "outputs": [
    {
     "data": {
      "text/plain": [
       "pyspark.sql.dataframe.DataFrame"
      ]
     },
     "execution_count": 22,
     "metadata": {},
     "output_type": "execute_result"
    }
   ],
   "source": [
    "type(df_flow)"
   ]
  },
  {
   "cell_type": "markdown",
   "metadata": {},
   "source": [
    "NB: *fetchsize* is the number of rows to load per network call (default Oracle row fetch size value is 10)"
   ]
  },
  {
   "cell_type": "code",
   "execution_count": 18,
   "metadata": {},
   "outputs": [
    {
     "data": {
      "text/plain": [
       "[Row(site_code='PY', count=790), Row(site_code='MU', count=700)]"
      ]
     },
     "execution_count": 18,
     "metadata": {},
     "output_type": "execute_result"
    }
   ],
   "source": [
    "# Compute number of vins per site\n",
    "kpis.compute_n_vins_per_site(df_flow, \"site_code\")"
   ]
  },
  {
   "cell_type": "markdown",
   "metadata": {},
   "source": [
    "#### 2.1.2. Write"
   ]
  },
  {
   "cell_type": "code",
   "execution_count": 15,
   "metadata": {},
   "outputs": [],
   "source": [
    "# Write data to oracle using jdbc connector\n",
    "df_flow.filter(F.col(\"site_code\") == \"PY\") \\\n",
    "       .write.jdbc(url=db_uri, table=\"table_test\", mode=\"overwrite\")"
   ]
  },
  {
   "cell_type": "markdown",
   "metadata": {},
   "source": [
    "NB: *mode* can be overwrite, append, error, ignore"
   ]
  },
  {
   "cell_type": "markdown",
   "metadata": {},
   "source": [
    "### 2.2. sqlalchemy connector"
   ]
  },
  {
   "cell_type": "markdown",
   "metadata": {},
   "source": [
    "#### 2.2.1. Read"
   ]
  },
  {
   "cell_type": "code",
   "execution_count": 19,
   "metadata": {},
   "outputs": [
    {
     "data": {
      "text/html": [
       "<div>\n",
       "<style scoped>\n",
       "    .dataframe tbody tr th:only-of-type {\n",
       "        vertical-align: middle;\n",
       "    }\n",
       "\n",
       "    .dataframe tbody tr th {\n",
       "        vertical-align: top;\n",
       "    }\n",
       "\n",
       "    .dataframe thead th {\n",
       "        text-align: right;\n",
       "    }\n",
       "</style>\n",
       "<table border=\"1\" class=\"dataframe\">\n",
       "  <thead>\n",
       "    <tr style=\"text-align: right;\">\n",
       "      <th></th>\n",
       "      <th>site_code</th>\n",
       "      <th>site_labl</th>\n",
       "      <th>vin</th>\n",
       "      <th>faml_grp_labl</th>\n",
       "      <th>nof</th>\n",
       "      <th>fabr_ordr_type</th>\n",
       "      <th>fabr_ordr_type_labl</th>\n",
       "      <th>flow_pont_pass</th>\n",
       "      <th>flow_pont_pass_labl</th>\n",
       "      <th>genr_door</th>\n",
       "      <th>genr_door_labl</th>\n",
       "      <th>foll_door</th>\n",
       "      <th>foll_door_labl</th>\n",
       "      <th>pass_date</th>\n",
       "      <th>insr_date</th>\n",
       "    </tr>\n",
       "  </thead>\n",
       "  <tbody>\n",
       "    <tr>\n",
       "      <th>0</th>\n",
       "      <td>PY</td>\n",
       "      <td>Poissy</td>\n",
       "      <td>VF3CCHMP0LW003459</td>\n",
       "      <td>208</td>\n",
       "      <td>9P59AEE0</td>\n",
       "      <td>CO</td>\n",
       "      <td>Commerce</td>\n",
       "      <td>EMON01</td>\n",
       "      <td>Entrie Montage L1</td>\n",
       "      <td>EMON</td>\n",
       "      <td>None</td>\n",
       "      <td>EMON</td>\n",
       "      <td>None</td>\n",
       "      <td>2020-01-16 06:47:24.706</td>\n",
       "      <td>2020-01-17</td>\n",
       "    </tr>\n",
       "    <tr>\n",
       "      <th>1</th>\n",
       "      <td>PY</td>\n",
       "      <td>Poissy</td>\n",
       "      <td>VF3CRYHYPLW003334</td>\n",
       "      <td>208</td>\n",
       "      <td>9P59A2A8</td>\n",
       "      <td>CO</td>\n",
       "      <td>Commerce</td>\n",
       "      <td>EMON01</td>\n",
       "      <td>Entrie Montage L1</td>\n",
       "      <td>EMON</td>\n",
       "      <td>None</td>\n",
       "      <td>EMON</td>\n",
       "      <td>None</td>\n",
       "      <td>2020-01-16 06:52:08.178</td>\n",
       "      <td>2020-01-17</td>\n",
       "    </tr>\n",
       "    <tr>\n",
       "      <th>2</th>\n",
       "      <td>PY</td>\n",
       "      <td>Poissy</td>\n",
       "      <td>VF3CRYHYPLW003335</td>\n",
       "      <td>208</td>\n",
       "      <td>9P59A2A9</td>\n",
       "      <td>CO</td>\n",
       "      <td>Commerce</td>\n",
       "      <td>EMON01</td>\n",
       "      <td>Entrie Montage L1</td>\n",
       "      <td>EMON</td>\n",
       "      <td>None</td>\n",
       "      <td>EMON</td>\n",
       "      <td>None</td>\n",
       "      <td>2020-01-16 06:58:26.571</td>\n",
       "      <td>2020-01-17</td>\n",
       "    </tr>\n",
       "    <tr>\n",
       "      <th>3</th>\n",
       "      <td>PY</td>\n",
       "      <td>Poissy</td>\n",
       "      <td>VR1UCYHYJLW003555</td>\n",
       "      <td>t-D34</td>\n",
       "      <td>9P54A1AR</td>\n",
       "      <td>CO</td>\n",
       "      <td>Commerce</td>\n",
       "      <td>EMON01</td>\n",
       "      <td>Entrie Montage L1</td>\n",
       "      <td>EMON</td>\n",
       "      <td>None</td>\n",
       "      <td>EMON</td>\n",
       "      <td>None</td>\n",
       "      <td>2020-01-16 06:03:06.890</td>\n",
       "      <td>2020-01-17</td>\n",
       "    </tr>\n",
       "    <tr>\n",
       "      <th>4</th>\n",
       "      <td>PY</td>\n",
       "      <td>Poissy</td>\n",
       "      <td>VR1UCYHYJLW003661</td>\n",
       "      <td>t-D34</td>\n",
       "      <td>9P54A1NP</td>\n",
       "      <td>CO</td>\n",
       "      <td>Commerce</td>\n",
       "      <td>EMON01</td>\n",
       "      <td>Entrie Montage L1</td>\n",
       "      <td>EMON</td>\n",
       "      <td>None</td>\n",
       "      <td>EMON</td>\n",
       "      <td>None</td>\n",
       "      <td>2020-01-16 06:02:11.930</td>\n",
       "      <td>2020-01-17</td>\n",
       "    </tr>\n",
       "  </tbody>\n",
       "</table>\n",
       "</div>"
      ],
      "text/plain": [
       "  site_code site_labl                vin faml_grp_labl       nof  \\\n",
       "0        PY    Poissy  VF3CCHMP0LW003459           208  9P59AEE0   \n",
       "1        PY    Poissy  VF3CRYHYPLW003334           208  9P59A2A8   \n",
       "2        PY    Poissy  VF3CRYHYPLW003335           208  9P59A2A9   \n",
       "3        PY    Poissy  VR1UCYHYJLW003555         t-D34  9P54A1AR   \n",
       "4        PY    Poissy  VR1UCYHYJLW003661         t-D34  9P54A1NP   \n",
       "\n",
       "  fabr_ordr_type fabr_ordr_type_labl flow_pont_pass flow_pont_pass_labl  \\\n",
       "0             CO            Commerce         EMON01   Entrie Montage L1   \n",
       "1             CO            Commerce         EMON01   Entrie Montage L1   \n",
       "2             CO            Commerce         EMON01   Entrie Montage L1   \n",
       "3             CO            Commerce         EMON01   Entrie Montage L1   \n",
       "4             CO            Commerce         EMON01   Entrie Montage L1   \n",
       "\n",
       "  genr_door genr_door_labl foll_door foll_door_labl               pass_date  \\\n",
       "0      EMON           None      EMON           None 2020-01-16 06:47:24.706   \n",
       "1      EMON           None      EMON           None 2020-01-16 06:52:08.178   \n",
       "2      EMON           None      EMON           None 2020-01-16 06:58:26.571   \n",
       "3      EMON           None      EMON           None 2020-01-16 06:03:06.890   \n",
       "4      EMON           None      EMON           None 2020-01-16 06:02:11.930   \n",
       "\n",
       "   insr_date  \n",
       "0 2020-01-17  \n",
       "1 2020-01-17  \n",
       "2 2020-01-17  \n",
       "3 2020-01-17  \n",
       "4 2020-01-17  "
      ]
     },
     "execution_count": 19,
     "metadata": {},
     "output_type": "execute_result"
    }
   ],
   "source": [
    "# Read data from Oracle using sqlalchemy connector\n",
    "df_flow_pd = oracle.read_df_from_query(db_uri_cx_oracle, query)\n",
    "df_flow_pd.head()"
   ]
  },
  {
   "cell_type": "code",
   "execution_count": 17,
   "metadata": {},
   "outputs": [
    {
     "data": {
      "text/plain": [
       "site_code\n",
       "MU    700\n",
       "PY    790\n",
       "dtype: int64"
      ]
     },
     "execution_count": 17,
     "metadata": {},
     "output_type": "execute_result"
    }
   ],
   "source": [
    "# Compute number of vins per site\n",
    "kpis.compute_n_vins_per_site(df_flow_pd, \"site_code\")"
   ]
  },
  {
   "cell_type": "markdown",
   "metadata": {},
   "source": [
    "#### 2.2.2. Write"
   ]
  },
  {
   "cell_type": "code",
   "execution_count": 18,
   "metadata": {},
   "outputs": [],
   "source": [
    "# Write data to oracle using sqlalchemy connector\n",
    "oracle.df_to_oracle(df_flow_pd.loc[df_flow_pd[\"site_code\"] == \"PY\"], \"table_test\",\n",
    "                    db_uri_cx_oracle, if_exists=\"replace\")"
   ]
  },
  {
   "cell_type": "code",
   "execution_count": 19,
   "metadata": {
    "scrolled": true
   },
   "outputs": [
    {
     "data": {
      "text/plain": [
       "site_code\n",
       "PY    790\n",
       "dtype: int64"
      ]
     },
     "execution_count": 19,
     "metadata": {},
     "output_type": "execute_result"
    }
   ],
   "source": [
    "# Verification\n",
    "simple_query = f\"(SELECT * from BRC_{os.environ['USER'].upper()}.table_test)\"\n",
    "df_test = oracle.read_df_from_query(db_uri_cx_oracle, simple_query)\n",
    "\n",
    "kpis.compute_n_vins_per_site(df_test, \"site_code\")"
   ]
  },
  {
   "cell_type": "markdown",
   "metadata": {},
   "source": [
    "## Appendix"
   ]
  },
  {
   "cell_type": "code",
   "execution_count": 20,
   "metadata": {
    "scrolled": false
   },
   "outputs": [
    {
     "data": {
      "text/plain": [
       "\"(SELECT to_char(P254G6_VEH_DC.DATE_ECOM,'YYYY') AS YEAR, DC_PIECES_RECHANGE.CODE_PR, P254G6_VEH_DC.CODE_FAMILLE, P254G6_VEH_DC.CODE_SILHOUETTE, P254G6_VEH_DC.CODE_FINITION, P254G6_VEH_DC.CODE_MOTEUR, P254G6_VEH_DC.DATE_ECOM, P254G6_VEH_DC.CODE_BOITE_DE_VITESSE FROM BRC07.P254G6_VEH_DC LEFT JOIN BRC07.DC_PIECES_RECHANGE ON BRC07.DC_PIECES_RECHANGE.VIN = BRC07.P254G6_VEH_DC.VIN  WHERE CODE_VERSION NOT IN ('#') AND DATE_ECOM >= TO_DATE('17/12/18', 'dd/mm/yy') - 1)\""
      ]
     },
     "execution_count": 20,
     "metadata": {},
     "output_type": "execute_result"
    }
   ],
   "source": [
    "# Create query using query_builder module\n",
    "from distribution_cost.infra import query_builder\n",
    "\n",
    "COLUMNS_TO_SELECT = [\"to_char(P254G6_VEH_DC.DATE_ECOM,'YYYY') AS YEAR\", \n",
    "\"DC_PIECES_RECHANGE.CODE_PR\", \n",
    "\"P254G6_VEH_DC.CODE_FAMILLE\", \n",
    "\"P254G6_VEH_DC.CODE_SILHOUETTE\", \n",
    "\"P254G6_VEH_DC.CODE_FINITION\", \n",
    "\"P254G6_VEH_DC.CODE_MOTEUR\",\n",
    "\"P254G6_VEH_DC.DATE_ECOM\",\n",
    "\"P254G6_VEH_DC.CODE_BOITE_DE_VITESSE\"]\n",
    "\n",
    "TODAY = datetime.date(2018, 12,17)\n",
    "FROM_TABLE = \"BRC07.P254G6_VEH_DC\"\n",
    "JOIN_TABLES = {\"BRC07.DC_PIECES_RECHANGE\": \"VIN\"}\n",
    "SAMPLING = {\"DATE_ECOM\": TODAY.strftime(\"%d/%m/%y\"),\n",
    "            \"CODE_VERSION\": \"('#')\"}\n",
    "nb_days = 1\n",
    "\n",
    "query = query_builder.build_download_query(from_table=FROM_TABLE,\n",
    "                                               columns_to_select=COLUMNS_TO_SELECT,\n",
    "                                               join_tables=JOIN_TABLES,\n",
    "                                               nb_days=nb_days,\n",
    "                                               date_col=\"DATE_ECOM\",\n",
    "                                               cond='NOT IN',\n",
    "                                               sampling=SAMPLING)\n",
    "    \n",
    "query"
   ]
  },
  {
   "cell_type": "code",
   "execution_count": null,
   "metadata": {},
   "outputs": [],
   "source": []
  }
 ],
 "metadata": {
  "kernelspec": {
   "display_name": "Python 3",
   "language": "python",
   "name": "python3"
  },
  "language_info": {
   "codemirror_mode": {
    "name": "ipython",
    "version": 3
   },
   "file_extension": ".py",
   "mimetype": "text/x-python",
   "name": "python",
   "nbconvert_exporter": "python",
   "pygments_lexer": "ipython3",
   "version": "3.6.4"
  }
 },
 "nbformat": 4,
 "nbformat_minor": 2
}
