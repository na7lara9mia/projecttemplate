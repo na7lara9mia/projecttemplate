{
 "cells": [
  {
   "cell_type": "markdown",
   "metadata": {},
   "source": [
    "<img src=\"media/logo_psa.jpg\" width=\"300\">\n",
    "\n",
    "<h1><center>Constructing SAMARA Data (2.1. SAMARA)</center></h1>"
   ]
  },
  {
   "cell_type": "markdown",
   "metadata": {},
   "source": [
    "### Imports"
   ]
  },
  {
   "cell_type": "code",
   "execution_count": 1,
   "metadata": {},
   "outputs": [
    {
     "name": "stdout",
     "output_type": "stream",
     "text": [
      "/gpfs/user/e587247/dco00/conf/application.yml\n",
      "/gpfs/user/e587247/dco00\n"
     ]
    }
   ],
   "source": [
    "%load_ext autoreload\n",
    "%autoreload 2\n",
    "import os\n",
    "import datetime\n",
    "import numpy as np\n",
    "import pandas as pd\n",
    "from functools import reduce\n",
    "pd.set_option('display.max_rows', 500)\n",
    "pd.set_option('display.max_columns', 100)\n",
    "\n",
    "from pyspark.sql import functions as F\n",
    "\n",
    "from distribution_cost.configuration import spark_config\n",
    "from distribution_cost.configuration.app import AppConfig\n",
    "from distribution_cost.configuration.data import DataConfig\n",
    "from distribution_cost.infra import oracle\n",
    "from distribution_cost.domain import kpis"
   ]
  },
  {
   "cell_type": "code",
   "execution_count": 2,
   "metadata": {},
   "outputs": [],
   "source": [
    "# Database uri\n",
    "app_config = AppConfig()\n",
    "\n",
    "db_uri = app_config.db_uri_jdbc\n",
    "db_uri_cx_oracle = app_config.db_uri_cx_oracle"
   ]
  },
  {
   "cell_type": "code",
   "execution_count": 3,
   "metadata": {},
   "outputs": [
    {
     "data": {
      "text/plain": [
       "{'sites': ['PY', 'MU'],\n",
       " 'start_date': '15/01/20',\n",
       " 'end_date': '17/01/20',\n",
       " 'genr_door': 'EMON'}"
      ]
     },
     "execution_count": 3,
     "metadata": {},
     "output_type": "execute_result"
    }
   ],
   "source": [
    "# Data Config\n",
    "data_config = DataConfig()\n",
    "\n",
    "data_config.vhls_perimeter"
   ]
  },
  {
   "cell_type": "code",
   "execution_count": 4,
   "metadata": {},
   "outputs": [],
   "source": [
    "sites = data_config.vhls_perimeter[\"sites\"]\n",
    "start_date = data_config.vhls_perimeter[\"start_date\"]\n",
    "end_date = data_config.vhls_perimeter[\"end_date\"]\n",
    "genr_door = data_config.vhls_perimeter[\"genr_door\"]"
   ]
  },
  {
   "cell_type": "code",
   "execution_count": 5,
   "metadata": {},
   "outputs": [],
   "source": [
    "# Create spark session\n",
    "spark_context, spark_session = spark_config.get_spark(app_name=\"app-distribution-cost\",\n",
    "                                                      executors=4, executor_cores=4, executor_mem='16g',\n",
    "                                                      dynamic_allocation=True, max_executors=8)\n",
    "\n",
    "spark_session.conf.set(\"spark.sql.crossJoin.enabled\", \"true\")"
   ]
  },
  {
   "cell_type": "code",
   "execution_count": 6,
   "metadata": {},
   "outputs": [],
   "source": [
    "df_sinqtvin = spark_session.read.load(\"/user/brc10/data/standardized/sinc0/sinqtvin/\")\n",
    "df_sinqtcli = spark_session.read.load(\"/user/brc10/data/standardized/sinc0/sinqtcli/\")\n",
    "df_sinqtver = spark_session.read.load(\"/user/brc10/data/standardized/sinc0/sinqtver/\")\n",
    "df_sinqtfv4 = spark_session.read.load(\"/user/brc10/data/standardized/sinc0/sinqtfv4/\")\n",
    "df_sinqtcmp = spark_session.read.load(\"/user/brc10/data/standardized/sinc0/sinqtcmp/\")\n",
    "df_sinqtcnd = spark_session.read.load(\"/user/brc10/data/standardized/sinc0/sinqtcnd/\")\n",
    "df_sinqtseg = spark_session.read.load(\"/user/brc10/data/standardized/sinc0/sinqtseg/\")\n",
    "df_sinqtzds = spark_session.read.load(\"/user/brc10/data/standardized/sinc0/sinqtzds/\")\n",
    "df_sinqtsfa = spark_session.read.load(\"/user/brc10/data/standardized/sinc0/sinqtsfa/\")\n",
    "df_sinqtfam = spark_session.read.load(\"/user/brc10/data/standardized/sinc0/sinqtfam/\")\n",
    "df_sinqtrub = spark_session.read.load(\"/user/brc10/data/standardized/sinc0/sinqtrub/\")\n",
    "df_sinqtopc = spark_session.read.load(\"/user/brc10/data/standardized/sinc0/sinqtopc/\")\n",
    "df_sinqtcma = spark_session.read.load(\"/user/brc10/data/standardized/sinc0/sinqtcma/\")\n",
    "df_sinqtcmi = spark_session.read.load(\"/user/brc10/data/standardized/sinc0/sinqtcmi/\")\n",
    "df_sinqtcyr = spark_session.read.load(\"/user/brc10/data/standardized/sinc0/sinqtcyr/\")\n",
    "df_sinqtmrq = spark_session.read.load(\"/user/brc10/data/standardized/sinc0/sinqtmrq/\")\n",
    "df_sinqtbas = spark_session.read.load(\"/user/brc10/data/standardized/sinc0/sinqtbas/\")"
   ]
  },
  {
   "cell_type": "code",
   "execution_count": 7,
   "metadata": {},
   "outputs": [],
   "source": [
    "df_sinqtvin.createOrReplaceTempView(\"df_sinqtvin\")\n",
    "df_sinqtver.createOrReplaceTempView(\"df_sinqtver\")\n",
    "df_sinqtfv4.createOrReplaceTempView(\"df_sinqtfv4\")\n",
    "df_sinqtcmp.createOrReplaceTempView(\"df_sinqtcmp\")\n",
    "df_sinqtcnd.createOrReplaceTempView(\"df_sinqtcnd\")\n",
    "df_sinqtcli.createOrReplaceTempView(\"df_sinqtcli\")\n",
    "df_sinqtseg.createOrReplaceTempView(\"df_sinqtseg\")\n",
    "df_sinqtzds.createOrReplaceTempView(\"df_sinqtzds\")\n",
    "df_sinqtsfa.createOrReplaceTempView(\"df_sinqtsfa\")\n",
    "df_sinqtfam.createOrReplaceTempView(\"df_sinqtfam\")\n",
    "df_sinqtrub.createOrReplaceTempView(\"df_sinqtrub\")\n",
    "df_sinqtopc.createOrReplaceTempView(\"df_sinqtopc\")\n",
    "df_sinqtcma.createOrReplaceTempView(\"df_sinqtcma\")\n",
    "df_sinqtcmi.createOrReplaceTempView(\"df_sinqtcmi\")\n",
    "df_sinqtcyr.createOrReplaceTempView(\"df_sinqtcyr\")\n",
    "df_sinqtmrq.createOrReplaceTempView(\"df_sinqtmrq\")\n",
    "df_sinqtbas.createOrReplaceTempView(\"df_sinqtbas\")"
   ]
  },
  {
   "cell_type": "code",
   "execution_count": 8,
   "metadata": {},
   "outputs": [],
   "source": [
    "querySAMARA = \"\"\"\n",
    "SELECT\n",
    "    SINQTVIN.CODE SINQTVIN__CODE,\n",
    "    SINQTCLI_2.CODE SINQTCLI_2__CODE,\n",
    "    SINQTCLI_2.CODE_PAYS_IMPLANT,\n",
    "    SINQTVER.CODE SINQTVER__CODE,\n",
    "    case 'fr_FR'\n",
    "when 'en_GB' then nvl(SINQTVER.LIB_EN,SINQTVER.LIB_FR) \n",
    "when 'fr_FR' then SINQTVER.LIB_FR\n",
    "when 'es_SP' then nvl(SINQTVER.LIB_ES,SINQTVER.LIB_FR)\n",
    "else SINQTVER.LIB_FR\n",
    "\n",
    "end SINQTVER__LIB,\n",
    "    Table__54.DT_FACT,\n",
    "    Table__54.DT_VD,\n",
    "    Table__54.DT_COMM_CLI_FIN_VD,\n",
    "    Table__54.DATIMM,\n",
    "    SINQTCMP.CODE SINQTCMP__CODE,\n",
    "    case 'fr_FR'\n",
    "when 'en_GB' then nvl(SINQTCMP.LIB_EN,SINQTCMP.LIB_FR)\n",
    "when 'fr_FR' then SINQTCMP.LIB_FR\n",
    "when 'es_SP' then nvl(SINQTCMP.LIB_ES,SINQTCMP.LIB_FR)\n",
    "else SINQTCMP.LIB_FR\n",
    "\n",
    "end SINQTCMP__LIB,\n",
    "    SINQTCND.CODE SINQTCND__CODE,\n",
    "    case 'fr_FR'\n",
    "when 'en_GB' then nvl(SINQTCND.LIB_EN,SINQTCND.LIB_FR)\n",
    "when 'fr_FR' then SINQTCND.LIB_FR\n",
    "when 'es_SP' then nvl(SINQTCND.LIB_ES,SINQTCND.LIB_FR)\n",
    "else SINQTCND.LIB_FR\n",
    "\n",
    "end SINQTCND__LIB,\n",
    "    SINQTCLI.CODE SINQTCLI__CODE,\n",
    "    case 'fr_FR'\n",
    "when 'en_GB' then nvl(SINQTCLI.LIB_EN,SINQTCLI.LIB_FR)\n",
    "when 'fr_FR' then SINQTCLI.LIB_FR\n",
    "when 'es_SP' then nvl(SINQTCLI.LIB_ES,SINQTCLI.LIB_FR)\n",
    "else SINQTCLI.LIB_FR\n",
    "\n",
    "end SINQTCLI__LIB,\n",
    "    SINQTSEG.CODE SINQTSEG__CODE,\n",
    "    case 'fr_FR'\n",
    "when 'en_GB' then nvl(SINQTSEG.LIB_EN,SINQTSEG.LIB_FR)\n",
    "when 'fr_FR' then SINQTSEG.LIB_FR\n",
    "when 'es_SP' then nvl(SINQTSEG.LIB_ES,SINQTSEG.LIB_FR)\n",
    "else SINQTSEG.LIB_FR\n",
    "\n",
    "end SINQTSEG__LIB,\n",
    "    case 'fr_FR'\n",
    "when 'en_GB' then nvl(SINQTZDS.LIB_EN,SINQTZDS.LIB_FR)\n",
    "when 'fr_FR' then SINQTZDS.LIB_FR\n",
    "when 'es_SP' then nvl(SINQTZDS.LIB_ES,SINQTZDS.LIB_FR)\n",
    "else SINQTZDS.LIB_FR\n",
    "\n",
    "end SINQTZDS__LIB,\n",
    "    SINQTSFA.CODE SINQTSFA__CODE,\n",
    "    case 'fr_FR'\n",
    "when 'en_GB' then nvl(SINQTSFA.LIB_EN,SINQTSFA.LIB_FR)\n",
    "when 'fr_FR' then SINQTSFA.LIB_FR\n",
    "when 'es_SP' then nvl(SINQTSFA.LIB_ES,SINQTSFA.LIB_FR)\n",
    "else SINQTSFA.LIB_FR\n",
    "\n",
    "end SINQTSFA__LIB,\n",
    "    SINQTFAM.CODE SINQTFAM__CODE,\n",
    "    case 'fr_FR'\n",
    "when 'en_GB' then nvl(SINQTFAM.LIB_EN,SINQTFAM.LIB_FR)\n",
    "when 'fr_FR' then SINQTFAM.LIB_FR\n",
    "when 'es_SP' then nvl(SINQTFAM.LIB_ES,SINQTFAM.LIB_FR)\n",
    "else SINQTFAM.LIB_FR\n",
    "\n",
    "end SINQTFAM__LIB,\n",
    "    SINQTRUB.CODE SINQTRUB__CODE,\n",
    "    case 'fr_FR'\n",
    "when 'en_GB' then SINQTRUB.LIB_EN\n",
    "when 'fr_FR' then SINQTRUB.LIB_FR\n",
    "when 'es_SP' then SINQTRUB.LIB_ES\n",
    "else SINQTRUB.LIB_FR\n",
    "\n",
    "end SINQTRUB__LIB,\n",
    "    SINQTOPC.CODE SINQTOPC__CODE,\n",
    "    case 'fr_FR'\n",
    "when 'en_GB' then SINQTOPC.LIB_EN\n",
    "when 'fr_FR' then SINQTOPC.LIB_FR\n",
    "when 'es_SP' then SINQTOPC.LIB_ES\n",
    "else SINQTOPC.LIB_FR\n",
    "\n",
    "end SINQTOPC_LIB,\n",
    "    SINQTCMA.CODE SINQTCMA__CODE,\n",
    "    case 'fr_FR'\n",
    "when 'en_GB' then nvl(SINQTCMA.LIB_EN,SINQTCMA.LIB_FR)\n",
    "when 'fr_FR' then SINQTCMA.LIB_FR\n",
    "when 'es_SP' then nvl(SINQTCMA.LIB_ES,SINQTCMA.LIB_FR)\n",
    "else SINQTCMA.LIB_FR\n",
    "\n",
    "end SINQTCMA__LIB,\n",
    "    SINQTCMI.CODE SINQTCMI__CODE,\n",
    "    case 'fr_FR'\n",
    "when 'en_GB' then nvl(SINQTCMI.LIB_EN,SINQTCMI.LIB_FR)\n",
    "when 'fr_FR' then SINQTCMI.LIB_FR\n",
    "when 'es_SP' then nvl(SINQTCMI.LIB_ES,SINQTCMI.LIB_FR)\n",
    "else SINQTCMI.LIB_FR\n",
    "\n",
    "end SINQTCMI__LIB,\n",
    "    Table__54.TYPE_FLOTTE_VD,\n",
    "    Table__54.TYPE_OPE_ESSOR,\n",
    "    Table__54.TYP_UTIL_VD,\n",
    "    Table__54.CODE_PROFESSION_VD,\n",
    "    Table__54.CODE_PROMO,\n",
    "    Table__54.CODE_PROMO2,\n",
    "    SINQTCYR.ANNEE_MOIS,\n",
    "    sum(Table__54.VOLUME_AJ) VOLUME_AJ,\n",
    "    sum(Table__54.PRIX_VENTE) PRIX_VENTE,\n",
    "    sum(Table__54.PRIX_VENTE_AJ) PRIX_VENTE_AJ,\n",
    "    sum(Table__54.PV_OPTIONS) PV_OPTIONS,\n",
    "    sum(Table__54.PV_VERSION) PV_VERSION,\n",
    "    sum(Table__54.MACOM_CONSO) MACOM_CONSO,\n",
    "    sum(Table__54.MACOM_CONSO_AJ) MACOM_CONSO_AJ,\n",
    "    sum(Table__54.MACOM_CONSO_VERSION) MACOM_CONSO_VERSION,\n",
    "    sum(Table__54.MACOM_CONSO_OPTION) MACOM_CONSO_OPTION,\n",
    "    sum(Table__54.MACOM_ENTITE) MACOM_ENTITE,\n",
    "    sum(Table__54.MACOM_ENTITE_AJ) MACOM_ENTITE_AJ,\n",
    "    sum(Table__54.MACOM_ENTITE_VERSION) MACOM_ENTITE_VERSION,\n",
    "    sum(Table__54.MACOM_ENTITE_OPTION) MACOM_ENTITE_OPTION,\n",
    "    sum(Table__54.RBCV_AJ) RBCV_AJ,\n",
    "    sum(Table__54.MCX_VARIABLES) MCX_VARIABLES,\n",
    "    SINQTMRQ_2.CODE SINQTMRQ_2__CODE\n",
    "FROM\n",
    "    -- df_sinqtvin SINQTVIN,--\n",
    "    -- df_sinqtcli SINQTCLI_2,--\n",
    "    -- df_sinqtver SINQTVER,--\n",
    "    df_sinqtfv4 TABLE__54,\n",
    "    -- df_sinqtcmp SINQTCMP,--\n",
    "    -- df_sinqtcnd SINQTCND,--\n",
    "    -- df_sinqtcli SINQTCLI,--\n",
    "    -- df_sinqtseg SINQTSEG,--\n",
    "    -- df_sinqtzds SINQTZDS,--\n",
    "    -- df_sinqtsfa SINQTSFA,--\n",
    "    -- df_sinqtfam SINQTFAM,--\n",
    "    -- df_sinqtrub SINQTRUB,\n",
    "    -- df_sinqtopc SINQTOPC,--\n",
    "    -- df_sinqtcma SINQTCMA,--\n",
    "    -- df_sinqtcmi SINQTCMI,--\n",
    "    -- df_sinqtcyr SINQTCYR,--\n",
    "    -- df_sinqtmrq SINQTMRQ_2,--\n",
    "    df_sinqtbas SINQTBAS,--\n",
    "    df_sinqtfam SINQTFAM_2--\n",
    "    JOIN df_sinqtcmp SINQTCMP ON Table__54.ID_ZDS=SINQTCMP.ID_ZDS and Table__54.ID_CMP=SINQTCMP.ID\n",
    "    JOIN df_sinqtcli SINQTCLI ON Table__54.ID_ZDS=SINQTCLI.ID_ZDS and Table__54.ID_SCD=SINQTCLI.ID_SCD and Table__54.ID_CLI=SINQTCLI.ID\n",
    "    JOIN df_sinqtcmi SINQTCMI ON Table__54.ID_ZDS=SINQTCMI.ID_ZDS and Table__54.ID_CMI=SINQTCMI.ID\n",
    "    --JOIN df_sinqtbas SINQTBAS ON Table__54.ID_BAS=SINQTBAS.ID\n",
    "    JOIN df_sinqtzds SINQTZDS ON Table__54.ID_ZDS=SINQTZDS.ID\n",
    "    LEFT OUTER JOIN df_sinqtrub SINQTRUB ON Table__54.ID_RUB=SINQTRUB.ID\n",
    "    JOIN df_sinqtfam SINQTFAM ON Table__54.ID_ZDS=SINQTFAM.ID_ZDS and Table__54.ID_FAM=SINQTFAM.ID\n",
    "    JOIN df_sinqtsfa SINQTSFA ON Table__54.ID_ZDS=SINQTSFA.ID_ZDS and Table__54.ID_SFA=SINQTSFA.ID\n",
    "    JOIN df_sinqtver SINQTVER ON Table__54.ID_ZDS=SINQTVER.ID_ZDS and Table__54.ID_VER=SINQTVER.ID\n",
    "    LEFT OUTER JOIN df_sinqtseg SINQTSEG ON Table__54.ID_ZDS=SINQTSEG.ID_ZDS and Table__54.ID_SEG=SINQTSEG.ID\n",
    "    JOIN df_sinqtcnd SINQTCND ON Table__54.ID_CND=SINQTCND.ID\n",
    "    JOIN df_sinqtcma SINQTCMA ON Table__54.ID_CMA=SINQTCMA.ID\n",
    "    LEFT OUTER JOIN df_sinqtopc SINQTOPC ON Table__54.ID_ZDS=SINQTOPC.ID_ZDS and Table__54.ID_OPC=SINQTOPC.ID\n",
    "    JOIN df_sinqtvin SINQTVIN ON Table__54.ID_ZDS=SINQTVIN.ID_ZDS and Table__54.ID_VIN=SINQTVIN.ID\n",
    "    JOIN df_sinqtcyr SINQTCYR ON Table__54.ID_CYC=SINQTCYR.ID\n",
    "    JOIN df_sinqtcli SINQTCLI_2 ON Table__54.ID_ZDS=SINQTCLI_2.ID_ZDS and Table__54.ID_SCD=SINQTCLI_2.ID_SCD and Table__54.ID_CLI_LIV=SINQTCLI_2.ID\n",
    "    JOIN df_sinqtmrq SINQTMRQ_2 ON SINQTFAM_2.ID_MRQ_COM=SINQTMRQ_2.ID and Table__54.ID_ZDS=SINQTFAM_2.ID_ZDS and Table__54.ID_FAM=SINQTFAM_2.ID    \n",
    "\n",
    "WHERE   ( Table__54.DT_VD BETWEEN TO_DATE('01/01/2019', 'dd/MM/yyyy') AND TO_DATE('30/06/2019', 'dd/MM/yyyy'))\n",
    "    AND ( SINQTBAS.CODE  =  'LA' AND SINQTCLI_2.CODE_PAYS_IMPLANT  IN  ( 'FR','DE','PT','BE','IT','ES','GB','NL','PL','AT'  ) AND ( SINQTBAS.CODE != 'EA'  ))\n",
    "GROUP BY\n",
    "  SINQTVIN.CODE, \n",
    "  SINQTCLI_2.CODE, \n",
    "  SINQTCLI_2.CODE_PAYS_IMPLANT, \n",
    "  SINQTVER.CODE, \n",
    "  case 'fr_FR'\n",
    "when 'en_GB' then nvl(SINQTVER.LIB_EN,SINQTVER.LIB_FR)\n",
    "when 'fr_FR' then SINQTVER.LIB_FR\n",
    "when 'es_SP' then nvl(SINQTVER.LIB_ES,SINQTVER.LIB_FR)\n",
    "else SINQTVER.LIB_FR\n",
    "\n",
    "end, \n",
    "  Table__54.DT_FACT, \n",
    "  Table__54.DT_VD, \n",
    "  Table__54.DT_COMM_CLI_FIN_VD, \n",
    "  Table__54.DATIMM, \n",
    "  SINQTCMP.CODE, \n",
    "  case 'fr_FR'\n",
    "when 'en_GB' then nvl(SINQTCMP.LIB_EN,SINQTCMP.LIB_FR)\n",
    "when 'fr_FR' then SINQTCMP.LIB_FR\n",
    "when 'es_SP' then nvl(SINQTCMP.LIB_ES,SINQTCMP.LIB_FR)\n",
    "else SINQTCMP.LIB_FR\n",
    "\n",
    "end, \n",
    "  SINQTCND.CODE, \n",
    "  case 'fr_FR'\n",
    "when 'en_GB' then nvl(SINQTCND.LIB_EN,SINQTCND.LIB_FR)\n",
    "when 'fr_FR' then SINQTCND.LIB_FR\n",
    "when 'es_SP' then nvl(SINQTCND.LIB_ES,SINQTCND.LIB_FR)\n",
    "else SINQTCND.LIB_FR\n",
    "\n",
    "end, \n",
    "  SINQTCLI.CODE, \n",
    "  case 'fr_FR'\n",
    "when 'en_GB' then nvl(SINQTCLI.LIB_EN,SINQTCLI.LIB_FR)\n",
    "when 'fr_FR' then SINQTCLI.LIB_FR\n",
    "when 'es_SP' then nvl(SINQTCLI.LIB_ES,SINQTCLI.LIB_FR)\n",
    "else SINQTCLI.LIB_FR\n",
    "\n",
    "end, \n",
    "  SINQTSEG.CODE, \n",
    "  case 'fr_FR'\n",
    "when 'en_GB' then nvl(SINQTSEG.LIB_EN,SINQTSEG.LIB_FR)\n",
    "when 'fr_FR' then SINQTSEG.LIB_FR\n",
    "when 'es_SP' then nvl(SINQTSEG.LIB_ES,SINQTSEG.LIB_FR)\n",
    "else SINQTSEG.LIB_FR\n",
    "\n",
    "end, \n",
    "  case 'fr_FR'\n",
    "when 'en_GB' then nvl(SINQTZDS.LIB_EN,SINQTZDS.LIB_FR)\n",
    "when 'fr_FR' then SINQTZDS.LIB_FR\n",
    "when 'es_SP' then nvl(SINQTZDS.LIB_ES,SINQTZDS.LIB_FR)\n",
    "else SINQTZDS.LIB_FR\n",
    "\n",
    "end, \n",
    "  SINQTSFA.CODE, \n",
    "  case 'fr_FR'\n",
    "when 'en_GB' then nvl(SINQTSFA.LIB_EN,SINQTSFA.LIB_FR)\n",
    "when 'fr_FR' then SINQTSFA.LIB_FR\n",
    "when 'es_SP' then nvl(SINQTSFA.LIB_ES,SINQTSFA.LIB_FR)\n",
    "else SINQTSFA.LIB_FR\n",
    "\n",
    "end, \n",
    "  SINQTFAM.CODE, \n",
    "  case 'fr_FR'\n",
    "when 'en_GB' then nvl(SINQTFAM.LIB_EN,SINQTFAM.LIB_FR)\n",
    "when 'fr_FR' then SINQTFAM.LIB_FR\n",
    "when 'es_SP' then nvl(SINQTFAM.LIB_ES,SINQTFAM.LIB_FR)\n",
    "else SINQTFAM.LIB_FR\n",
    "\n",
    "end, \n",
    "  SINQTRUB.CODE, \n",
    "  case 'fr_FR'\n",
    "when 'en_GB' then SINQTRUB.LIB_EN\n",
    "when 'fr_FR' then SINQTRUB.LIB_FR\n",
    "when 'es_SP' then SINQTRUB.LIB_ES\n",
    "else SINQTRUB.LIB_FR\n",
    "\n",
    "end, \n",
    "  SINQTOPC.CODE, \n",
    "  case 'fr_FR'\n",
    "when 'en_GB' then SINQTOPC.LIB_EN\n",
    "when 'fr_FR' then SINQTOPC.LIB_FR\n",
    "when 'es_SP' then SINQTOPC.LIB_ES\n",
    "else SINQTOPC.LIB_FR\n",
    "\n",
    "end, \n",
    "  SINQTCMA.CODE, \n",
    "  case 'fr_FR'\n",
    "when 'en_GB' then nvl(SINQTCMA.LIB_EN,SINQTCMA.LIB_FR)\n",
    "when 'fr_FR' then SINQTCMA.LIB_FR\n",
    "when 'es_SP' then nvl(SINQTCMA.LIB_ES,SINQTCMA.LIB_FR)\n",
    "else SINQTCMA.LIB_FR\n",
    "\n",
    "end, \n",
    "  SINQTCMI.CODE, \n",
    "  case 'fr_FR'\n",
    "when 'en_GB' then nvl(SINQTCMI.LIB_EN,SINQTCMI.LIB_FR)\n",
    "when 'fr_FR' then SINQTCMI.LIB_FR\n",
    "when 'es_SP' then nvl(SINQTCMI.LIB_ES,SINQTCMI.LIB_FR)\n",
    "else SINQTCMI.LIB_FR\n",
    "\n",
    "end, \n",
    "  Table__54.TYPE_FLOTTE_VD, \n",
    "  Table__54.TYPE_OPE_ESSOR, \n",
    "  Table__54.TYP_UTIL_VD, \n",
    "  Table__54.CODE_PROFESSION_VD, \n",
    "  Table__54.CODE_PROMO, \n",
    "  Table__54.CODE_PROMO2, \n",
    "  SINQTCYR.ANNEE_MOIS, \n",
    "  SINQTMRQ_2.CODE\n",
    "\"\"\""
   ]
  },
  {
   "cell_type": "code",
   "execution_count": 9,
   "metadata": {},
   "outputs": [],
   "source": [
    "dfSAMARA = spark_session.sql(querySAMARA)"
   ]
  },
  {
   "cell_type": "code",
   "execution_count": 10,
   "metadata": {},
   "outputs": [],
   "source": [
    "cols_to_drop = ['SINQTRUB__CODE','SINQTRUB__LIB','MCX_VARIABLES']"
   ]
  },
  {
   "cell_type": "code",
   "execution_count": 11,
   "metadata": {},
   "outputs": [],
   "source": [
    "dfSAMARA = dfSAMARA.drop(*cols_to_drop)"
   ]
  },
  {
   "cell_type": "code",
   "execution_count": 12,
   "metadata": {},
   "outputs": [
    {
     "data": {
      "text/plain": [
       "10072216"
      ]
     },
     "execution_count": 12,
     "metadata": {},
     "output_type": "execute_result"
    }
   ],
   "source": [
    "dfSAMARA.cache()\n",
    "dfSAMARA.count()"
   ]
  },
  {
   "cell_type": "code",
   "execution_count": 13,
   "metadata": {},
   "outputs": [],
   "source": [
    "dfSAMARA = dfSAMARA.withColumn(\"PRIX_VENTE_AJ\", F.col('PRIX_VENTE_AJ').cast(\"float\"))\n",
    "dfSAMARA = dfSAMARA.withColumn(\"PV_VERSION\", F.col('PV_VERSION').cast(\"float\"))\n",
    "dfSAMARA = dfSAMARA.withColumn(\"MACOM_CONSO_AJ\", F.col('MACOM_CONSO_AJ').cast(\"float\"))\n",
    "dfSAMARA = dfSAMARA.withColumn(\"MACOM_CONSO_OPTION\", F.col('MACOM_CONSO_OPTION').cast(\"float\"))\n",
    "dfSAMARA = dfSAMARA.withColumn(\"MACOM_ENTITE_VERSION\", F.col('MACOM_ENTITE_VERSION').cast(\"float\"))\n",
    "dfSAMARA = dfSAMARA.withColumn(\"RBCV_AJ\", F.col('RBCV_AJ').cast(\"float\"))\n",
    "dfSAMARA = dfSAMARA.withColumn(\"PV_OPTIONS\", F.col('PV_OPTIONS').cast(\"float\"))"
   ]
  },
  {
   "cell_type": "markdown",
   "metadata": {},
   "source": [
    "# Summming amounts in another dataframe"
   ]
  },
  {
   "cell_type": "code",
   "execution_count": 14,
   "metadata": {},
   "outputs": [],
   "source": [
    "d = dfSAMARA.select('SINQTVIN__CODE',\n",
    "                    'PRIX_VENTE_AJ',\n",
    "                    'PV_VERSION', \n",
    "                    'MACOM_CONSO_AJ',\n",
    "                    'MACOM_CONSO_OPTION',\n",
    "                    'MACOM_ENTITE_VERSION',\n",
    "                    'RBCV_AJ',\n",
    "                    'PV_OPTIONS').groupby('SINQTVIN__CODE').sum()"
   ]
  },
  {
   "cell_type": "markdown",
   "metadata": {},
   "source": [
    "## Dropping Columns"
   ]
  },
  {
   "cell_type": "code",
   "execution_count": 15,
   "metadata": {},
   "outputs": [],
   "source": [
    "dfSAMARA = dfSAMARA.drop('PRIX_VENTE_AJ', \n",
    "                         'PV_VERSION', \n",
    "                         'MACOM_CONSO_AJ', \n",
    "                         'MACOM_CONSO_OPTION',\n",
    "                         'MACOM_ENTITE_VERSION',\n",
    "                         'RBCV_AJ',\n",
    "                         'PV_OPTIONS')"
   ]
  },
  {
   "cell_type": "code",
   "execution_count": 16,
   "metadata": {},
   "outputs": [
    {
     "data": {
      "text/plain": [
       "['SINQTVIN__CODE',\n",
       " 'SINQTCLI_2__CODE',\n",
       " 'CODE_PAYS_IMPLANT',\n",
       " 'SINQTVER__CODE',\n",
       " 'SINQTVER__LIB',\n",
       " 'DT_FACT',\n",
       " 'DT_VD',\n",
       " 'DT_COMM_CLI_FIN_VD',\n",
       " 'DATIMM',\n",
       " 'SINQTCMP__CODE',\n",
       " 'SINQTCMP__LIB',\n",
       " 'SINQTCND__CODE',\n",
       " 'SINQTCND__LIB',\n",
       " 'SINQTCLI__CODE',\n",
       " 'SINQTCLI__LIB',\n",
       " 'SINQTSEG__CODE',\n",
       " 'SINQTSEG__LIB',\n",
       " 'SINQTZDS__LIB',\n",
       " 'SINQTSFA__CODE',\n",
       " 'SINQTSFA__LIB',\n",
       " 'SINQTFAM__CODE',\n",
       " 'SINQTFAM__LIB',\n",
       " 'SINQTOPC__CODE',\n",
       " 'SINQTOPC_LIB',\n",
       " 'SINQTCMA__CODE',\n",
       " 'SINQTCMA__LIB',\n",
       " 'SINQTCMI__CODE',\n",
       " 'SINQTCMI__LIB',\n",
       " 'TYPE_FLOTTE_VD',\n",
       " 'TYPE_OPE_ESSOR',\n",
       " 'TYP_UTIL_VD',\n",
       " 'CODE_PROFESSION_VD',\n",
       " 'CODE_PROMO',\n",
       " 'CODE_PROMO2',\n",
       " 'ANNEE_MOIS',\n",
       " 'VOLUME_AJ',\n",
       " 'PRIX_VENTE',\n",
       " 'MACOM_CONSO',\n",
       " 'MACOM_CONSO_VERSION',\n",
       " 'MACOM_ENTITE',\n",
       " 'MACOM_ENTITE_AJ',\n",
       " 'MACOM_ENTITE_OPTION',\n",
       " 'SINQTMRQ_2__CODE']"
      ]
     },
     "execution_count": 16,
     "metadata": {},
     "output_type": "execute_result"
    }
   ],
   "source": [
    "dfSAMARA.columns"
   ]
  },
  {
   "cell_type": "code",
   "execution_count": 17,
   "metadata": {},
   "outputs": [],
   "source": [
    "#dfSAMARA = dfSAMARA.drop_duplicates() # to check before that and after that"
   ]
  },
  {
   "cell_type": "markdown",
   "metadata": {},
   "source": [
    "## Dropping Duplicates on VIN, keeping oldest Date"
   ]
  },
  {
   "cell_type": "code",
   "execution_count": 18,
   "metadata": {},
   "outputs": [],
   "source": [
    "dfSAMARA = dfSAMARA.orderBy(\"DT_VD\").drop_duplicates(subset=['SINQTVIN__CODE'])"
   ]
  },
  {
   "cell_type": "code",
   "execution_count": 19,
   "metadata": {},
   "outputs": [],
   "source": [
    "dfs = [dfSAMARA, d]\n",
    "df_samara_final = reduce(lambda left,right: left.join(right,on='SINQTVIN__CODE'), dfs)"
   ]
  },
  {
   "cell_type": "markdown",
   "metadata": {},
   "source": [
    "# Checking Number of rows here"
   ]
  },
  {
   "cell_type": "code",
   "execution_count": 20,
   "metadata": {},
   "outputs": [
    {
     "name": "stdout",
     "output_type": "stream",
     "text": [
      "1265207\n",
      "1265207\n",
      "1265207\n"
     ]
    }
   ],
   "source": [
    "print(dfSAMARA.count())\n",
    "print(d.count())\n",
    "print(df_samara_final.select('SINQTVIN__CODE').distinct().count())"
   ]
  },
  {
   "cell_type": "markdown",
   "metadata": {},
   "source": [
    "## Changing Names here"
   ]
  },
  {
   "cell_type": "code",
   "execution_count": 21,
   "metadata": {},
   "outputs": [],
   "source": [
    "df_samara_final = df_samara_final.withColumnRenamed(\"sum(PRIX_VENTE_AJ)\",'PRIX_VENTE_AJ')\n",
    "df_samara_final = df_samara_final.withColumnRenamed(\"sum(PV_OPTIONS)\", 'PV_OPTIONS')\n",
    "df_samara_final = df_samara_final.withColumnRenamed(\"sum(PV_VERSION)\", 'PV_VERSION')\n",
    "                                 \n",
    "df_samara_final = df_samara_final.withColumnRenamed(\"sum(RBCV_AJ)\", 'RBCV_AJ')\n",
    "df_samara_final = df_samara_final.withColumnRenamed(\"sum(MACOM_CONSO_AJ)\", 'MACOM_CONSO_AJ')\n",
    "df_samara_final = df_samara_final.withColumnRenamed(\"sum(MACOM_CONSO_OPTION)\", 'MACOM_CONSO_OPTION')\n",
    "df_samara_final = df_samara_final.withColumnRenamed(\"sum(MACOM_ENTITE_VERSION)\", 'MACOM_ENTITE_VERSION') "
   ]
  },
  {
   "cell_type": "markdown",
   "metadata": {},
   "source": [
    "# Replace 0 by nan"
   ]
  },
  {
   "cell_type": "code",
   "execution_count": 22,
   "metadata": {},
   "outputs": [],
   "source": [
    "df_samara_final= df_samara_final.withColumn('PRIX_VENTE_AJ',\n",
    "                                            F.when(F.col('PRIX_VENTE_AJ')=='0', np.nan).otherwise(F.col('PRIX_VENTE_AJ')))\n",
    "\n",
    "df_samara_final = df_samara_final.withColumn('PV_OPTIONS',\n",
    "                                             F.when(F.col('PV_OPTIONS')=='0', np.nan).otherwise(F.col('PV_OPTIONS')))\n",
    "\n",
    "df_samara_final = df_samara_final.withColumn('PV_VERSION',\n",
    "                                             F.when(F.col('PV_VERSION')=='0', np.nan).otherwise(F.col('PV_VERSION')))\n",
    "\n",
    "df_samara_final = df_samara_final.withColumn('MACOM_CONSO_AJ',\n",
    "                                             F.when(F.col('MACOM_CONSO_AJ')=='0', np.nan).otherwise(F.col('MACOM_CONSO_AJ')))\n",
    "\n",
    "df_samara_final = df_samara_final.withColumn('MACOM_CONSO_OPTION',\n",
    "                                             F.when(F.col('MACOM_CONSO_OPTION')=='0', np.nan).otherwise(F.col('MACOM_CONSO_OPTION')))\n",
    "\n",
    "df_samara_final = df_samara_final.withColumn('MACOM_ENTITE_VERSION',\n",
    "                                             F.when(F.col('MACOM_ENTITE_VERSION')=='0', np.nan).otherwise(F.col('MACOM_ENTITE_VERSION')))"
   ]
  },
  {
   "cell_type": "code",
   "execution_count": 23,
   "metadata": {},
   "outputs": [],
   "source": [
    "df_with_year_and_month_and_day = (\n",
    "    df_samara_final.withColumn(\"year\", F.year(F.col(\"DT_VD\")))\n",
    "                   .withColumn(\"month\", F.month(F.col(\"DT_VD\")))\n",
    "                  .withColumn(\"day\", F.dayofmonth(F.col(\"DT_VD\")))\n",
    ")\n"
   ]
  },
  {
   "cell_type": "code",
   "execution_count": 34,
   "metadata": {},
   "outputs": [],
   "source": [
    "# spark_session.conf.set(\"spark.sql.sources.partitionOverwriteMode\",\"dynamic\")"
   ]
  },
  {
   "cell_type": "code",
   "execution_count": 24,
   "metadata": {},
   "outputs": [],
   "source": [
    "df_with_year_and_month_and_day.write.mode(\"overwrite\").partitionBy(\"year\",\"month\",\"day\").parquet(\"hdfs:///user/e587247/data/raw/samara/\")"
   ]
  },
  {
   "cell_type": "code",
   "execution_count": 25,
   "metadata": {},
   "outputs": [
    {
     "data": {
      "text/plain": [
       "DataFrame[SINQTVIN__CODE: string, SINQTCLI_2__CODE: string, CODE_PAYS_IMPLANT: string, SINQTVER__CODE: string, SINQTVER__LIB: string, DT_FACT: date, DT_VD: date, DT_COMM_CLI_FIN_VD: date, DATIMM: date, SINQTCMP__CODE: string, SINQTCMP__LIB: string, SINQTCND__CODE: string, SINQTCND__LIB: string, SINQTCLI__CODE: string, SINQTCLI__LIB: string, SINQTSEG__CODE: string, SINQTSEG__LIB: string, SINQTZDS__LIB: string, SINQTSFA__CODE: string, SINQTSFA__LIB: string, SINQTFAM__CODE: string, SINQTFAM__LIB: string, SINQTOPC__CODE: string, SINQTOPC_LIB: string, SINQTCMA__CODE: string, SINQTCMA__LIB: string, SINQTCMI__CODE: string, SINQTCMI__LIB: string, TYPE_FLOTTE_VD: string, TYPE_OPE_ESSOR: string, TYP_UTIL_VD: string, CODE_PROFESSION_VD: string, CODE_PROMO: string, CODE_PROMO2: string, ANNEE_MOIS: decimal(6,0), VOLUME_AJ: decimal(38,10), PRIX_VENTE: decimal(38,10), MACOM_CONSO: decimal(38,10), MACOM_CONSO_VERSION: decimal(38,10), MACOM_ENTITE: decimal(38,10), MACOM_ENTITE_AJ: decimal(38,10), MACOM_ENTITE_OPTION: decimal(38,10), SINQTMRQ_2__CODE: string, PRIX_VENTE_AJ: double, PV_VERSION: double, MACOM_CONSO_AJ: double, MACOM_CONSO_OPTION: double, MACOM_ENTITE_VERSION: double, RBCV_AJ: double, PV_OPTIONS: double, year: int, month: int, day: int]"
      ]
     },
     "execution_count": 25,
     "metadata": {},
     "output_type": "execute_result"
    }
   ],
   "source": [
    "spark_session.read.parquet(\"/user/e587247/data/raw/samara/\")"
   ]
  },
  {
   "cell_type": "code",
   "execution_count": null,
   "metadata": {},
   "outputs": [],
   "source": []
  }
 ],
 "metadata": {
  "kernelspec": {
   "display_name": "Python 3",
   "language": "python",
   "name": "python3"
  },
  "language_info": {
   "codemirror_mode": {
    "name": "ipython",
    "version": 3
   },
   "file_extension": ".py",
   "mimetype": "text/x-python",
   "name": "python",
   "nbconvert_exporter": "python",
   "pygments_lexer": "ipython3",
   "version": "3.6.4"
  }
 },
 "nbformat": 4,
 "nbformat_minor": 4
}
