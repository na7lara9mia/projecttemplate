{
 "cells": [
  {
   "cell_type": "markdown",
   "metadata": {},
   "source": [
    "<img src=\"media/logo_psa.jpg\" width=\"300\">\n",
    "\n",
    "<h1><center>Constructing SAMARA Data</center></h1>"
   ]
  },
  {
   "cell_type": "markdown",
   "metadata": {},
   "source": [
    "## Imports"
   ]
  },
  {
   "cell_type": "code",
   "execution_count": 1,
   "metadata": {},
   "outputs": [
    {
     "name": "stdout",
     "output_type": "stream",
     "text": [
      "/gpfs/user/e587247/dco00/conf/application.yml\n",
      "/gpfs/user/e587247/dco00\n"
     ]
    }
   ],
   "source": [
    "%load_ext autoreload\n",
    "%autoreload 2\n",
    "import os\n",
    "import datetime\n",
    "import numpy as np\n",
    "import pandas as pd\n",
    "from functools import reduce\n",
    "pd.set_option('display.max_rows', 500)\n",
    "pd.set_option('display.max_columns', 100)\n",
    "\n",
    "from pyspark.sql import functions as F\n",
    "\n",
    "from distribution_cost.configuration import spark_config\n",
    "from distribution_cost.configuration.app import AppConfig\n",
    "from distribution_cost.configuration.data import DataConfig\n",
    "from distribution_cost.infra import oracle\n",
    "from distribution_cost.domain import kpis"
   ]
  },
  {
   "cell_type": "markdown",
   "metadata": {},
   "source": [
    "## Connection to Exadata (Optional)"
   ]
  },
  {
   "cell_type": "code",
   "execution_count": 2,
   "metadata": {},
   "outputs": [],
   "source": [
    "# Database uri\n",
    "app_config = AppConfig()\n",
    "\n",
    "db_uri = app_config.db_uri_jdbc\n",
    "db_uri_cx_oracle = app_config.db_uri_cx_oracle\n",
    "\n",
    "# Data Config\n",
    "data_config = DataConfig()\n",
    "\n",
    "data_config.vhls_perimeter\n",
    "\n",
    "sites = data_config.vhls_perimeter[\"sites\"]\n",
    "start_date = data_config.vhls_perimeter[\"start_date\"]\n",
    "end_date = data_config.vhls_perimeter[\"end_date\"]\n",
    "genr_door = data_config.vhls_perimeter[\"genr_door\"]"
   ]
  },
  {
   "cell_type": "markdown",
   "metadata": {},
   "source": [
    "## Creating Spark Session"
   ]
  },
  {
   "cell_type": "code",
   "execution_count": 3,
   "metadata": {},
   "outputs": [],
   "source": [
    "# Create spark session\n",
    "spark_context, spark_session = spark_config.get_spark(app_name=\"app-reduce-brc10sinqtfv4\",\n",
    "                                                      executors=3, executor_cores=5, executor_mem='8g',\n",
    "                                                      dynamic_allocation=True, max_executors=8)\n",
    "\n",
    "# spark_session.conf.set(\"spark.sql.sources.partitionOverwriteMode\",\"dynamic\")"
   ]
  },
  {
   "cell_type": "markdown",
   "metadata": {},
   "source": [
    "## Loading the tables from HDFS"
   ]
  },
  {
   "cell_type": "code",
   "execution_count": 4,
   "metadata": {},
   "outputs": [],
   "source": [
    "df_sinqtfv4 = spark_session.read.load(\"/user/brc10/data/standardized/sinc0/sinqtfv4/\")"
   ]
  },
  {
   "cell_type": "markdown",
   "metadata": {},
   "source": [
    "## Parameters "
   ]
  },
  {
   "cell_type": "code",
   "execution_count": 5,
   "metadata": {},
   "outputs": [],
   "source": [
    "dateFrom = \"01/08/2017\"\n",
    "dateTo = \"01/02/2020\""
   ]
  },
  {
   "cell_type": "code",
   "execution_count": 6,
   "metadata": {},
   "outputs": [],
   "source": [
    "dfsinqtfv4_reduced = df_sinqtfv4.where(\"DT_VD BETWEEN TO_DATE('{0}', 'dd/MM/yyyy') AND TO_DATE('{1}', 'dd/MM/yyyy')\".format(dateFrom, dateTo))\\\n",
    "    .withColumn(\"year\", F.year(F.col(\"DT_VD\")))\\\n",
    "    .withColumn(\"month\", F.month(F.col(\"DT_VD\")))\\\n",
    "    .withColumn(\"day\", F.dayofmonth(F.col(\"DT_VD\")))"
   ]
  },
  {
   "cell_type": "code",
   "execution_count": 1,
   "metadata": {},
   "outputs": [],
   "source": [
    "# dfsinqtfv4_reduced.explain(True)"
   ]
  },
  {
   "cell_type": "markdown",
   "metadata": {},
   "source": [
    "### Writing the result in HDFS in partitions"
   ]
  },
  {
   "cell_type": "code",
   "execution_count": 8,
   "metadata": {},
   "outputs": [],
   "source": [
    "dfsinqtfv4_reduced\\\n",
    "    .write\\\n",
    "    .mode(\"overwrite\")\\\n",
    "    .partitionBy(\"year\",\"month\")\\\n",
    "    .parquet(\"hdfs:///user/e587247/data/landing/sinqtfv4_30month2/\")"
   ]
  },
  {
   "cell_type": "code",
   "execution_count": 9,
   "metadata": {},
   "outputs": [],
   "source": [
    "spark_session.stop()"
   ]
  }
 ],
 "metadata": {
  "kernelspec": {
   "display_name": "Python 3",
   "language": "python",
   "name": "python3"
  },
  "language_info": {
   "codemirror_mode": {
    "name": "ipython",
    "version": 3
   },
   "file_extension": ".py",
   "mimetype": "text/x-python",
   "name": "python",
   "nbconvert_exporter": "python",
   "pygments_lexer": "ipython3",
   "version": "3.6.4"
  }
 },
 "nbformat": 4,
 "nbformat_minor": 4
}
