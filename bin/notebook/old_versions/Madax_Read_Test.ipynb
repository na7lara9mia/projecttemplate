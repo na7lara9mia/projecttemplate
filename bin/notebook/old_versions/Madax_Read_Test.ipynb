{
 "cells": [
  {
   "cell_type": "markdown",
   "metadata": {},
   "source": [
    "<img src=\"media/logo_psa.jpg\" width=\"300\">\n",
    "\n",
    "<h1><center>Constructing MADAX Data (1. MADAX)</center></h1>"
   ]
  },
  {
   "cell_type": "markdown",
   "metadata": {},
   "source": [
    "### Imports"
   ]
  },
  {
   "cell_type": "code",
   "execution_count": 1,
   "metadata": {},
   "outputs": [
    {
     "name": "stdout",
     "output_type": "stream",
     "text": [
      "/gpfs/user/e587246/dco00/conf/application.yml\n",
      "/gpfs/user/e587246/dco00\n"
     ]
    }
   ],
   "source": [
    "%load_ext autoreload\n",
    "%autoreload 2\n",
    "import os\n",
    "import datetime\n",
    "import pandas as pd\n",
    "pd.set_option('display.max_rows', 500)\n",
    "pd.set_option('display.max_columns', 100)\n",
    "\n",
    "from pyspark.sql import functions as F\n",
    "import numpy as  np\n",
    "\n",
    "from distribution_cost.configuration import spark_config\n",
    "from distribution_cost.configuration.app import AppConfig\n",
    "from distribution_cost.configuration.data import DataConfig\n",
    "from distribution_cost.domain import kpis"
   ]
  },
  {
   "cell_type": "code",
   "execution_count": 2,
   "metadata": {},
   "outputs": [
    {
     "data": {
      "text/plain": [
       "'jdbc:oracle:thin:BRC_E587247/uOR3hLZr@//pyox2k01:1521/BRCEX_PP2'"
      ]
     },
     "execution_count": 2,
     "metadata": {},
     "output_type": "execute_result"
    }
   ],
   "source": [
    "# Database uri\n",
    "app_config = AppConfig()\n",
    "\n",
    "db_uri = app_config.db_uri_jdbc\n",
    "db_uri"
   ]
  },
  {
   "cell_type": "code",
   "execution_count": 3,
   "metadata": {},
   "outputs": [
    {
     "data": {
      "text/plain": [
       "{'sites': ['PY', 'MU'],\n",
       " 'start_date': '15/01/20',\n",
       " 'end_date': '17/01/20',\n",
       " 'genr_door': 'EMON'}"
      ]
     },
     "execution_count": 3,
     "metadata": {},
     "output_type": "execute_result"
    }
   ],
   "source": [
    "# Data Config\n",
    "data_config = DataConfig()\n",
    "\n",
    "data_config.vhls_perimeter"
   ]
  },
  {
   "cell_type": "code",
   "execution_count": 4,
   "metadata": {},
   "outputs": [],
   "source": [
    "sites = data_config.vhls_perimeter[\"sites\"]\n",
    "start_date = data_config.vhls_perimeter[\"start_date\"]\n",
    "end_date = data_config.vhls_perimeter[\"end_date\"]\n",
    "genr_door = data_config.vhls_perimeter[\"genr_door\"]"
   ]
  },
  {
   "cell_type": "code",
   "execution_count": 5,
   "metadata": {},
   "outputs": [],
   "source": [
    "# Create spark session\n",
    "spark_context, spark_session = spark_config.get_spark(app_name=\"app-distribution-cost\",\n",
    "                                                      executors=2, executor_cores=4, executor_mem='5g',\n",
    "                                                      dynamic_allocation=True, max_executors=8)"
   ]
  },
  {
   "cell_type": "code",
   "execution_count": 6,
   "metadata": {},
   "outputs": [],
   "source": [
    "dateFrom = \"01/01/2019\"\n",
    "dateTo = \"30/06/2019\""
   ]
  },
  {
   "cell_type": "code",
   "execution_count": 7,
   "metadata": {},
   "outputs": [],
   "source": [
    "queryMADAX = \"\"\"\n",
    "(SELECT \n",
    "  BRC06_BDS00.RBVQTTXM_ARC.NOVIN, \n",
    "  BRC06_BDS00.RBVQTTXM_ARC.DATCCLT, \n",
    "  RBVQTFAM_restriction.VPVU, \n",
    "  BRC06_BDS00.RBVQTM10.DATMEC, \n",
    "  BRC06_BDS00.RBVQTTXM_ARC.TYPUTIL, \n",
    "  --RBVQTTUT_TXM.LITERAL MDX_Libelle_Type_Utilisation, \n",
    "  BRC06_BDS00.RBVQTVEH.INDDEMO, \n",
    "  BRC06_BDS00.RBVQTM10.CO2MIXTE, \n",
    "  BRC06_BDS00.RBVQTTXM_ARC.HABEXTT, \n",
    "  RBVQTFAM_restriction.FAMILLE, \n",
    "  RBVQTFAM_restriction.LIBFAMI, \n",
    "  BRC06_BDS00.RBVQTTXM_ARC.COD_MOTOR, \n",
    "  --BRC06_BDS00.RBVQTLM1.LITERAL MDX_Libelle_Moteur, \n",
    "  --BRC06_BDS00.RBVQTLM1.ENERGIA, \n",
    "  BRC06_BDS00.RBVQTTXM_ARC.DATVENT, \n",
    "  RBVQTTFF.LIBELLE_FRANCAIS, \n",
    "  RBVQTFAM_restriction.MARQUE, \n",
    "  BRC06_BDS00.RBVQTM10.DATDEM, \n",
    "  CASE WHEN ( BRC06_BDS00.RBVQTFLL.QC_FILIAL ) IN (1,63) THEN BRC06_BDS00.RBVQTM10.DATIMM ELSE BRC06_BDS00.RBVQTVEH.DATIMMAT END AS DATIMMAT,\n",
    "  BRC06_BDS00.RBVQTCDC.CODOP1, \n",
    "  BRC06_BDS00.RBVQTCDC.CODOP2, \n",
    "  BRC06_BDS00.RBVQTCDC.CODOP3, \n",
    "  BRC06_BDS00.RBVQTCDC.CODOP4, \n",
    "  BRC06_BDS00.RBVQTCDC.CODOP5, \n",
    "  BRC06_BDS00.RBVQTCDC.CODPROM, \n",
    "  BRC06_BDS00.RBVQTCDC.CODPROM2, \n",
    "  BRC06_BDS00.RBVQTCDC.REMIPOUR, \n",
    "  BRC06_BDS00.RBVQTVEH.DATMAD, \n",
    "  BRC06_BDS00.RBVQTVEH.DATEXPC, \n",
    "  BRC06_BDS00.RBVQTVEH.DATARCR, \n",
    "  --BRC06_BDS00.RBVQTCCO.COMBI, \n",
    "  BRC06_BDS00.RBVQTCCO.LIBCOMBI, \n",
    "  BRC06_BDS00.RBVQTTXM_ARC.CODCPRO, \n",
    "  Table__129.LIBELLE, \n",
    "  BRC06_BDS00.RBVQTVEH.DATPROD, \n",
    "  BRC06_BDS00.RBVQTCAF.DATMRES \n",
    "FROM \n",
    "  BRC06_BDS00.RBVQTCDC, \n",
    "  BRC06_BDS00.RBVQTTXM_ARC, \n",
    "  BRC06_BDS00.RBVQTFLL, \n",
    "  BRC06_BDS00.RBVQTTFF, \n",
    "  BRC06_BDS00.RBVQTLM1, \n",
    "  BRC06_BDS00.RBVQTVEH, \n",
    "  BRC06_BDS00.RBVQTTUT RBVQTTUT_TXM, \n",
    "  BRC06_BDS00.RBVQTCCO, \n",
    "  BRC06_BDS00.RBVQTCAF, \n",
    "  BRC06_BDS00.RBVQTM10, \n",
    "  (  \n",
    "  SELECT CODPSA as CODPSA,  MAX(LITCTP) as LIBELLE FROM BRC06_BDS00.RBVQTCTP GROUP BY CODPSA \n",
    "  )  Table__129,\n",
    "  BRC06_BDS00.RBVQTFAM  RBVQTFAM_restriction \n",
    "WHERE \n",
    "       ( BRC06_BDS00.RBVQTCDC.QI_FILIAL(+)=BRC06_BDS00.RBVQTTXM_ARC.QI_FILIAL  ) \n",
    "  AND  ( BRC06_BDS00.RBVQTTXM_ARC.NUMCCLT=BRC06_BDS00.RBVQTCDC.NUMCCLT(+)  ) \n",
    "  AND  ( BRC06_BDS00.RBVQTFLL.QC_FILIAL=BRC06_BDS00.RBVQTTFF.QI_FILIAL  ) \n",
    "  AND  ( BRC06_BDS00.RBVQTLM1.COD_MOTOR(+)=BRC06_BDS00.RBVQTTXM_ARC.COD_MOTOR  ) \n",
    "  AND  ( BRC06_BDS00.RBVQTLM1.QI_FILIAL(+)=BRC06_BDS00.RBVQTTXM_ARC.QI_FILIAL  ) \n",
    "  AND  ( BRC06_BDS00.RBVQTVEH.QI_FILIAL(+)=BRC06_BDS00.RBVQTTXM_ARC.QI_FILIAL  ) \n",
    "  AND  ( BRC06_BDS00.RBVQTVEH.NOVIN(+)=BRC06_BDS00.RBVQTTXM_ARC.NOVIN  ) \n",
    "  AND  ( BRC06_BDS00.RBVQTTXM_ARC.TYPUTIL=RBVQTTUT_TXM.TYPUTIL(+)  ) \n",
    "  AND  ( BRC06_BDS00.RBVQTTXM_ARC.QI_FILIAL=RBVQTTUT_TXM.QI_FILIAL(+)  ) \n",
    "  AND  ( BRC06_BDS00.RBVQTCCO.QI_FILIAL(+)=BRC06_BDS00.RBVQTTXM_ARC.QI_FILIAL  ) \n",
    "  AND  ( BRC06_BDS00.RBVQTTXM_ARC.CODCPER=BRC06_BDS00.RBVQTCCO.CODCPER(+)  ) \n",
    "  AND  ( BRC06_BDS00.RBVQTCCO.VERSION(+)=BRC06_BDS00.RBVQTTXM_ARC.VERSION_CCO  ) \n",
    "  AND  ( BRC06_BDS00.RBVQTCAF.NOCAF(+)=BRC06_BDS00.RBVQTTXM_ARC.NOCAF and BRC06_BDS00.RBVQTCAF.QI_FILIAL(+)=BRC06_BDS00.RBVQTTXM_ARC.QI_FILIAL  ) \n",
    "  AND  ( BRC06_BDS00.RBVQTTXM_ARC.QI_FILIAL=BRC06_BDS00.RBVQTM10.QI_FILIAL(+) and BRC06_BDS00.RBVQTTXM_ARC.NOVIN=BRC06_BDS00.RBVQTM10.NOVIN(+)  ) \n",
    "  AND  ( Table__129.CODPSA(+)=BRC06_BDS00.RBVQTTXM_ARC.CODCPRO  ) \n",
    "  AND  ( BRC06_BDS00.RBVQTFLL.QC_FILIAL=BRC06_BDS00.RBVQTTXM_ARC.QI_FILIAL  ) \n",
    "  AND  ( RBVQTFAM_restriction.VPVU=BRC06_BDS00.RBVQTTXM_ARC.VPVU and RBVQTFAM_restriction.FAMILLE=SUBSTR(BRC06_BDS00.RBVQTTXM_ARC.VERS14, 1, 4)  ) \n",
    "  AND  ( RBVQTFAM_restriction.QI_FILIAL IN ('83','84')  ) \n",
    "  AND  ( \n",
    "         BRC06_BDS00.RBVQTTFF.LIBELLE_FRANCAIS  IN  ( 'France' , 'Allemagne' , 'Portugal' , 'Autriche' , 'Belgique' , 'Italie' , 'Espagne' , 'Gde-Bretagne' , 'Pays Bas' , 'Pologne'  ) \n",
    "         AND \n",
    "         RBVQTFAM_restriction.MARQUE  IN  ( 'AP' , 'AC', 'DS'  ) \n",
    "       ) \n",
    "  AND BRC06_BDS00.RBVQTTXM_ARC.DATVENT BETWEEN TO_DATE('%s', 'dd/mm/yyyy') AND TO_DATE('%s', 'dd/mm/yyyy')\n",
    "  ORDER BY BRC06_BDS00.RBVQTTXM_ARC.DATVENT)\n",
    "\"\"\" % (dateFrom, dateTo)"
   ]
  },
  {
   "cell_type": "code",
   "execution_count": 8,
   "metadata": {},
   "outputs": [],
   "source": [
    "# dfMADAXPandas = oracle.read_df_from_query(db_uri_cx_oracle, queryMADAX)"
   ]
  },
  {
   "cell_type": "code",
   "execution_count": 9,
   "metadata": {},
   "outputs": [],
   "source": [
    "dfMADAX = spark_session.read.option(\"fetchsize\", 10000).jdbc(db_uri, table=queryMADAX).cache()"
   ]
  },
  {
   "cell_type": "markdown",
   "metadata": {},
   "source": [
    "# Tests"
   ]
  },
  {
   "cell_type": "code",
   "execution_count": 10,
   "metadata": {},
   "outputs": [],
   "source": [
    "#dfMADAX.toPandas().head(10)"
   ]
  },
  {
   "cell_type": "markdown",
   "metadata": {},
   "source": [
    "# Treatments"
   ]
  },
  {
   "cell_type": "markdown",
   "metadata": {},
   "source": [
    "## Promo Codes Mapping"
   ]
  },
  {
   "cell_type": "code",
   "execution_count": 11,
   "metadata": {},
   "outputs": [],
   "source": [
    "dfMADAX = dfMADAX.withColumn('CODOP1_LIBELLE',\\\n",
    "                             F.when((F.substring('CODOP1', 1, 1) == 'C') |\\\n",
    "                                    (F.substring('CODOP1', 1, 1) == 'D'),\\\n",
    "                                    F.col(\"CODOP1\").substr(F.lit(4), F.lit(F.length(F.col(\"CODOP1\"))-5)))\\\n",
    "                             .otherwise(F.col(\"CODOP1\").substr(F.lit(3), F.lit(F.length(F.col(\"CODOP1\"))-4))))"
   ]
  },
  {
   "cell_type": "markdown",
   "metadata": {},
   "source": [
    "## Mapping VP, VU variables from French abb. to English abb."
   ]
  },
  {
   "cell_type": "code",
   "execution_count": 12,
   "metadata": {},
   "outputs": [],
   "source": [
    "column_name_VpVu= {'VP':'PC','VU':'CV' }\n",
    "dfMADAX = dfMADAX.replace(to_replace=column_name_VpVu, subset=['VPVU'])"
   ]
  },
  {
   "cell_type": "code",
   "execution_count": 13,
   "metadata": {},
   "outputs": [],
   "source": [
    "dfMADAX = dfMADAX.withColumn('REMIPOUR', F.when(F.col('REMIPOUR')=='0', np.nan).otherwise(F.col('REMIPOUR')))\n",
    "dfMADAX = dfMADAX.withColumn('CODPROM', F.when(F.col('CODPROM')=='0', np.nan).otherwise(F.col('CODPROM')))"
   ]
  },
  {
   "cell_type": "code",
   "execution_count": 14,
   "metadata": {},
   "outputs": [],
   "source": [
    "#dfMADAX.toPandas().head(10)"
   ]
  },
  {
   "cell_type": "code",
   "execution_count": 15,
   "metadata": {},
   "outputs": [],
   "source": [
    "df_with_year_and_month_and_day = (\n",
    "    dfMADAX.withColumn(\"year\", F.year(F.col(\"DATVENT\")))\n",
    "                   .withColumn(\"month\", F.month(F.col(\"DATVENT\")))\n",
    "                  .withColumn(\"day\", F.dayofmonth(F.col(\"DATVENT\")))\n",
    ") \n",
    "#spark_session.conf.set(\"spark.sql.sources.partitionOverwriteMode\",\"dynamic\") "
   ]
  },
  {
   "cell_type": "code",
   "execution_count": 16,
   "metadata": {},
   "outputs": [],
   "source": [
    "df_with_year_and_month_and_day.write.mode(\"overwrite\").partitionBy(\"year\",\"month\",\"day\").parquet(\"hdfs:///user/e587247/data/raw/madax/\")"
   ]
  }
 ],
 "metadata": {
  "kernelspec": {
   "display_name": "Python 3",
   "language": "python",
   "name": "python3"
  },
  "language_info": {
   "codemirror_mode": {
    "name": "ipython",
    "version": 3
   },
   "file_extension": ".py",
   "mimetype": "text/x-python",
   "name": "python",
   "nbconvert_exporter": "python",
   "pygments_lexer": "ipython3",
   "version": "3.6.4"
  }
 },
 "nbformat": 4,
 "nbformat_minor": 4
}
