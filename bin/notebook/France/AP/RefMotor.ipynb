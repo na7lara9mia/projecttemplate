{
 "cells": [
  {
   "cell_type": "code",
   "execution_count": 1,
   "metadata": {},
   "outputs": [
    {
     "name": "stdout",
     "output_type": "stream",
     "text": [
      "/gpfs/user/e587246/dco00/conf/application.yml\n",
      "/gpfs/user/e587246/dco00\n"
     ]
    }
   ],
   "source": [
    "%load_ext autoreload\n",
    "%autoreload 2\n",
    "import os\n",
    "import datetime\n",
    "import pandas as pd\n",
    "pd.set_option('display.max_rows', 500)\n",
    "pd.set_option('display.max_columns', 100)\n",
    "\n",
    "from pyspark.sql import functions as F\n",
    "from pyspark.sql.types import *\n",
    "\n",
    "from distribution_cost.configuration import spark_config\n",
    "from distribution_cost.configuration.app import AppConfig\n",
    "from distribution_cost.configuration.data import DataConfig\n",
    "from distribution_cost.infra import oracle\n",
    "from distribution_cost.domain import kpis\n",
    "\n",
    "import numpy as np"
   ]
  },
  {
   "cell_type": "code",
   "execution_count": 2,
   "metadata": {},
   "outputs": [
    {
     "data": {
      "text/plain": [
       "'jdbc:oracle:thin:BRC_E587247/uOR3hLZr@//pyox2k01:1521/BRCEX_PP2'"
      ]
     },
     "execution_count": 2,
     "metadata": {},
     "output_type": "execute_result"
    }
   ],
   "source": [
    "# Database uri\n",
    "app_config = AppConfig()\n",
    "db_uri = app_config.db_uri_jdbc\n",
    "db_uri"
   ]
  },
  {
   "cell_type": "code",
   "execution_count": 3,
   "metadata": {},
   "outputs": [],
   "source": [
    "# Create spark session\n",
    "spark_context, spark_session = spark_config.get_spark(app_name=\"app-distribution-cost\",\n",
    "                                                      executors=4, executor_cores=4, executor_mem='5g',\n",
    "                                                      dynamic_allocation=True, max_executors=8)\n",
    "\n",
    "# spark_session.conf.set(\"spark.sql.crossJoin.enabled\", \"true\")"
   ]
  },
  {
   "cell_type": "code",
   "execution_count": 4,
   "metadata": {},
   "outputs": [],
   "source": [
    "df_rbvqtlm1 = spark_session.read.load(\"/user/brc06/data/standardized/bds00/rbvqtlm1/\")\n",
    "df_rbvqttff = spark_session.read.load(\"/user/brc06/data/standardized/bds00/rbvqttff/\")\n",
    "df_rbvqtlm1.createOrReplaceTempView(\"df_rbvqtlm1\")\n",
    "df_rbvqttff.createOrReplaceTempView(\"df_rbvqttff\")"
   ]
  },
  {
   "cell_type": "code",
   "execution_count": 5,
   "metadata": {},
   "outputs": [],
   "source": [
    "queryMOTEUR = \"\"\"\n",
    "(SELECT m.cod_motor, m.energia, m.literal, f.libelle_francais\n",
    "FROM df_rbvqtlm1 as m\n",
    "JOIN df_rbvqttff f ON m.qi_filial = f.qi_filial\n",
    "WHERE f.libelle_francais IN ('France')\n",
    ")\n",
    "\"\"\""
   ]
  },
  {
   "cell_type": "code",
   "execution_count": 216,
   "metadata": {},
   "outputs": [],
   "source": [
    "dfMOTEUR = spark_session.sql(queryMOTEUR)"
   ]
  },
  {
   "cell_type": "code",
   "execution_count": 217,
   "metadata": {},
   "outputs": [],
   "source": [
    "column_value_Energy = {'ELECTRICO':'Electric','Diesel':'Diesel','DIESEL':'Diesel','ESSENCE':'Petrol','ELECTRIQUE':'Electric', 'Gasolina':'Petrol','GASOLINA': 'Petrol'}\n",
    "dfMOTEUR = dfMOTEUR.replace(to_replace=column_value_Energy, subset=['energia'])\n",
    "dfMOTEUR=dfMOTEUR.withColumn('energia', F.regexp_replace(F.col(\"energia\"), \"\\\\?\", \"\"))\n",
    "dfMOTEUR=dfMOTEUR.drop('literal')\n",
    "dfMOTEUR=dfMOTEUR.drop_duplicates()\n",
    "#dfMOTEUR=dfMOTEUR.drop_duplicates(['cod_motor','libelle_francais'])\n",
    "dfMOTEUR=dfMOTEUR.withColumnRenamed('libelle_francais','Country')\n",
    "duplicates = dfMOTEUR.groupby('cod_motor','Country').count()\n",
    "dfMOTEUR= dfMOTEUR.join(duplicates, on=['cod_motor','Country'])\n",
    "dfMOTEUR=dfMOTEUR.withColumnRenamed('count','count_duplicates')"
   ]
  },
  {
   "cell_type": "code",
   "execution_count": 218,
   "metadata": {},
   "outputs": [],
   "source": [
    "dfMOTEUR = dfMOTEUR.withColumn('to_keep',F.when((F.col('energia')=='')&(F.col('count_duplicates')>1),0).otherwise(1))\n",
    "dfMOTEUR=dfMOTEUR.filter(F.col('to_keep')==1).drop('to_keep','count_duplicates')"
   ]
  },
  {
   "cell_type": "code",
   "execution_count": 219,
   "metadata": {},
   "outputs": [],
   "source": [
    "duplicates = dfMOTEUR.groupby('cod_motor','Country').count()\n",
    "dfMOTEUR= dfMOTEUR.join(duplicates, on=['cod_motor','Country'])\n",
    "dfMOTEUR=dfMOTEUR.withColumnRenamed('count','count_duplicates')\n",
    "dfMOTEUR=dfMOTEUR.withColumn('energia',F.when(F.col('count_duplicates')>1,'Unknown').otherwise(F.col('energia')))\n",
    "dfMOTEUR=dfMOTEUR.drop_duplicates().drop('count_duplicates')                           "
   ]
  },
  {
   "cell_type": "code",
   "execution_count": 220,
   "metadata": {},
   "outputs": [
    {
     "name": "stdout",
     "output_type": "stream",
     "text": [
      "+---------+-------+-------+\n",
      "|cod_motor|Country|energia|\n",
      "+---------+-------+-------+\n",
      "|       RH| France|       |\n",
      "|       \u0000\u0000| France|       |\n",
      "|       QB| France|       |\n",
      "|       QR| France|       |\n",
      "+---------+-------+-------+\n",
      "\n"
     ]
    }
   ],
   "source": [
    "# dfMOTEUR.filter(F.col('energia')=='').show()"
   ]
  },
  {
   "cell_type": "code",
   "execution_count": 221,
   "metadata": {},
   "outputs": [],
   "source": [
    "dfMOTEUR.write.jdbc(url=db_uri, table=\"SMKT005_REF_MOT\", mode=\"overwrite\")"
   ]
  },
  {
   "cell_type": "code",
   "execution_count": 222,
   "metadata": {},
   "outputs": [],
   "source": [
    "dfMOTEUR.write.mode(\"overwrite\").partitionBy(\"Country\").parquet(\"hdfs:///user/e587247/data/refined/moteur/\")"
   ]
  }
 ],
 "metadata": {
  "kernelspec": {
   "display_name": "Python 3",
   "language": "python",
   "name": "python3"
  },
  "language_info": {
   "codemirror_mode": {
    "name": "ipython",
    "version": 3
   },
   "file_extension": ".py",
   "mimetype": "text/x-python",
   "name": "python",
   "nbconvert_exporter": "python",
   "pygments_lexer": "ipython3",
   "version": "3.6.4"
  }
 },
 "nbformat": 4,
 "nbformat_minor": 4
}
