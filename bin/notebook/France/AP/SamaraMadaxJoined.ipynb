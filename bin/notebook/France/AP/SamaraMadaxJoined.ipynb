{
 "cells": [
  {
   "cell_type": "markdown",
   "metadata": {},
   "source": [
    "<img src=\"media/logo_psa.jpg\" width=\"300\">\n",
    "\n",
    "<h1><center>Constructing MADAX U SAMARA</center></h1>"
   ]
  },
  {
   "cell_type": "markdown",
   "metadata": {},
   "source": [
    "## Imports"
   ]
  },
  {
   "cell_type": "code",
   "execution_count": 1,
   "metadata": {},
   "outputs": [
    {
     "name": "stdout",
     "output_type": "stream",
     "text": [
      "/gpfs/user/e587246/dco00/conf/application.yml\n",
      "/gpfs/user/e587246/dco00\n"
     ]
    }
   ],
   "source": [
    "%load_ext autoreload\n",
    "%autoreload 2\n",
    "import os\n",
    "import datetime\n",
    "import numpy as np\n",
    "import pandas as pd\n",
    "from functools import reduce\n",
    "pd.set_option('display.max_rows', 500)\n",
    "pd.set_option('display.max_columns', 100)\n",
    "\n",
    "from pyspark.sql import functions as F\n",
    "import pyspark.sql.types as StringType\n",
    "\n",
    "from distribution_cost.configuration import spark_config\n",
    "from distribution_cost.configuration.app import AppConfig\n",
    "from distribution_cost.configuration.data import DataConfig\n",
    "from distribution_cost.infra import oracle\n",
    "from distribution_cost.domain import kpis"
   ]
  },
  {
   "cell_type": "markdown",
   "metadata": {},
   "source": [
    "## Connection to Exadata (Optional)"
   ]
  },
  {
   "cell_type": "code",
   "execution_count": 2,
   "metadata": {},
   "outputs": [],
   "source": [
    "# Database uri\n",
    "app_config = AppConfig()\n",
    "\n",
    "db_uri = app_config.db_uri_jdbc\n",
    "db_uri_cx_oracle = app_config.db_uri_cx_oracle\n",
    "\n",
    "# Data Config\n",
    "data_config = DataConfig()\n",
    "\n",
    "data_config.vhls_perimeter\n",
    "\n",
    "sites = data_config.vhls_perimeter[\"sites\"]\n",
    "start_date = data_config.vhls_perimeter[\"start_date\"]\n",
    "end_date = data_config.vhls_perimeter[\"end_date\"]\n",
    "genr_door = data_config.vhls_perimeter[\"genr_door\"]"
   ]
  },
  {
   "cell_type": "markdown",
   "metadata": {},
   "source": [
    "## Creating Spark Session"
   ]
  },
  {
   "cell_type": "code",
   "execution_count": 3,
   "metadata": {},
   "outputs": [],
   "source": [
    "# Create spark session\n",
    "spark_context, spark_session = spark_config.get_spark(app_name=\"app-distribution-cost\",\n",
    "                                                      executors=3, executor_cores=4, executor_mem='8g',\n",
    "                                                      dynamic_allocation=True, max_executors=8)\n",
    "\n",
    "# spark_session.conf.set(\"spark.sql.crossJoin.enabled\", \"true\")\n",
    "# spark_session.conf.set(\"spark.sql.sources.partitionOverwriteMode\",\"dynamic\")"
   ]
  },
  {
   "cell_type": "markdown",
   "metadata": {},
   "source": [
    "## Loading the tables from HDFS"
   ]
  },
  {
   "cell_type": "code",
   "execution_count": 4,
   "metadata": {},
   "outputs": [],
   "source": [
    "# Read MADAX\n",
    "df_madax = spark_session.read.load(\"/user/e587247/data/raw/madaxv30c\")\n",
    "# Read SAMARA\n",
    "df_samara = spark_session.read.load(\"/user/e587247/data/raw/samarav30c1\")\n",
    "# READ OPV\n",
    "df_opv = spark_session.read.load(\"/user/e587247/data/raw/opvv30c\")\n",
    "# READ TAX RATE (FROM ORACLE DB)?\n",
    "df_taxRate = spark_session.read.option(\"fetchsize\", 10000).jdbc(db_uri, table='SMKT001_REF_TAX')"
   ]
  },
  {
   "cell_type": "markdown",
   "metadata": {},
   "source": [
    "## Parameters "
   ]
  },
  {
   "cell_type": "code",
   "execution_count": 5,
   "metadata": {},
   "outputs": [],
   "source": [
    "# Renaming VIN column in madax, samara and opv and dropping year, month and day\n",
    "df_samara=df_samara.withColumnRenamed('CODE_VIN','VIN').drop(\"year\", \"month\", \"day\")#.withColumn('COUNTRY',F.lit('France')).drop('day')\n",
    "df_madax=df_madax.withColumnRenamed('NOVIN','VIN').drop(\"year\", \"month\", \"day\")#.withColumn('COUNTRY',F.lit('France')).drop('day')\n",
    "df_opv=df_opv.withColumnRenamed('CDC_NUMVIN', 'VIN').drop(\"year\", \"month\", \"day\")#.withColumn('COUNTRY', F.lit('France')).drop('day')\n",
    "\n",
    "# Make the outer join between MADAX and SAMARA on VIN and Country\n",
    "df_mx_outer_sm = df_madax.join(df_samara,on=['COUNTRY','VIN'] , how='outer')\n",
    "\n",
    "# Make the left join between OPV and MXSM on VIN and Country\n",
    "df_mx_outer_sm_opv = df_mx_outer_sm.join(df_opv, on=['COUNTRY','VIN'], how='left_outer')\n",
    "\n",
    "# Make the left join between tax rate and MXSM on VIN and Country\n",
    "df_mx_outer_sm_opv = df_mx_outer_sm_opv.join(df_taxRate, on=['COUNTRY'], how='left_outer')"
   ]
  },
  {
   "cell_type": "code",
   "execution_count": 6,
   "metadata": {},
   "outputs": [],
   "source": [
    "# Merge common columns between MADAX and SAMARA\n",
    "df_mx_outer_sm_opv= df_mx_outer_sm_opv.withColumn('BRAND', F.when(F.col('MARQUE').isNull(),F.col('SINQTMRQ_2__CODE')).otherwise(F.col('MARQUE')))\n",
    "df_mx_outer_sm_opv= df_mx_outer_sm_opv.withColumn('DATE_SALE', F.when(F.col('DATVENT').isNull(),F.col('DT_VD')).otherwise(F.col('DATVENT')))\n",
    "df_mx_outer_sm_opv= df_mx_outer_sm_opv.withColumn('DATE_ORDER', F.when(F.col('DATCCLT').isNull(),F.col('DATE_COMANDE')).otherwise(F.col('DATCCLT')))\n",
    "df_mx_outer_sm_opv= df_mx_outer_sm_opv.withColumn('LIB_TYPUTIL', F.when(F.col('TYPUTIL').isNull(),F.col('TYP_UTIL_VD')).otherwise(F.col('TYPUTIL')))\n",
    "df_mx_outer_sm_opv=df_mx_outer_sm_opv.drop('MARQUE','DATVENT','DATCCLT','TYPUTIL','TYP_UTIL_VD','DATE_COMANDE','DT_VD','SINQTMRQ_2__CODE','LIB_ZDS')"
   ]
  },
  {
   "cell_type": "code",
   "execution_count": 7,
   "metadata": {},
   "outputs": [],
   "source": [
    "# Date formatting (dd-MM-yyyy)\n",
    "list_dates = ['DATMEC','DATE_SALE','DATPROD','DATMRES','DATMAD','DATEXPC','DATARCR','DATE_ORDER',\"DATDEM\",\"DATIMMAT\",\"DT_FACT\"]\n",
    "for d in list_dates:\n",
    "    df_mx_outer_sm_opv = df_mx_outer_sm_opv.withColumn(d, F.to_date(F.col(d),'yyyy-MM-dd'))\n",
    "\n",
    "# Convert variables to float\n",
    "list_amounts = ['TOTAL_REMISE','NCL_VO_VALON','NCL_VO_IMPAYUDAREC','TOTAL_REMISE_PRE'] \n",
    "for a in list_amounts:\n",
    "    df_mx_outer_sm_opv = df_mx_outer_sm_opv.withColumn(a, F.regexp_replace(F.col(a),'\\,','.'))\n",
    "    df_mx_outer_sm_opv = df_mx_outer_sm_opv.withColumn(a, F.regexp_replace(F.col(a),'[^0-9\\-\\.]','').cast(\"float\"))"
   ]
  },
  {
   "cell_type": "code",
   "execution_count": 8,
   "metadata": {},
   "outputs": [],
   "source": [
    "# Variable calculations\n",
    "df_mx_outer_sm_opv=df_mx_outer_sm_opv.withColumn('TOT_ADV_AFT_TAX', F.abs(F.col('TOTAL_REMISE')) + F.col('NCL_VO_IMPAYUDAREC'))\n",
    "df_mx_outer_sm_opv= df_mx_outer_sm_opv.withColumn('TOT_ADV_PRE_TAX', F.col('TOT_ADV_AFT_TAX')/(1+F.col('TAX_RATE').cast('float')))\n",
    "df_mx_outer_sm_opv= df_mx_outer_sm_opv.withColumn('TRADE_IN_AID_PRE',  F.col('NCL_VO_IMPAYUDAREC')/(1+F.col('TAX_RATE').cast('float')))\n",
    "\n",
    "df_mx_outer_sm_opv= df_mx_outer_sm_opv.withColumn('DISC_AFT', F.when((F.abs(F.col('TOTAL_REMISE_PRE')) > 0) & (F.col('NCL_VO_IMPAYUDAREC').isNull()) & (F.col('NCL_VO_VALON').isNull()),1).otherwise(F.when(((F.abs(F.col('TOTAL_REMISE_PRE')) > 0) & (F.col('NCL_VO_IMPAYUDAREC') == 0) & (F.col('NCL_VO_VALON') == 0)),1).otherwise(0)))\n",
    "df_mx_outer_sm_opv= df_mx_outer_sm_opv.withColumn('DISC_PRE', F.when(((F.abs(F.col('TOTAL_REMISE_PRE')) <= 0) | (F.col('NCL_VO_IMPAYUDAREC')<= 0) | (F.col('NCL_VO_VALON')<= 0)),0).otherwise(1))\n",
    "df_mx_outer_sm_opv= df_mx_outer_sm_opv.withColumn('VIN_DM',F.col('DISC_AFT')+F.col('DISC_PRE'))\n",
    "\n",
    "df_mx_outer_sm_opv= df_mx_outer_sm_opv.withColumn('VEH_AGE',  F.datediff(F.col('DATE_ORDER'),F.col('DATPROD')))\n",
    "df_mx_outer_sm_opv= df_mx_outer_sm_opv.withColumn('STOCK_AGE',F.when(F.col('VEH_AGE')> 0, F.col('VEH_AGE')).otherwise(F.lit(None)))\n",
    "df_mx_outer_sm_opv= df_mx_outer_sm_opv.withColumn('DELIVERY_TIME', F.datediff(F.col('DATE_ORDER'),F.col('DATE_SALE'))*(-1))"
   ]
  },
  {
   "cell_type": "code",
   "execution_count": 9,
   "metadata": {},
   "outputs": [],
   "source": [
    "# Select columns from MX-SM-OPV (only COD_PDV from OPV)\n",
    "df_mx_outer_sm_opv=df_mx_outer_sm_opv.drop('CRE_MARCA', 'DATE_COMANDE', 'NCL_PD_SUBTOTAL2', 'FINITION', 'ACC_PRE', 'NCL_VO_IMPAYUDAREC', 'FRAIS_ANEXXES', 'TOTAL_REMISE_PRE', 'TOTAL_REMISE', 'PRIX_FINAL', 'tarif+options_PRE', 'tarif+OPTTIONS', 'NCL_VO_PRIMACONVERSION', 'ACC', 'CONTRAT_SERVICE', 'BONUS_MALUS', 'NCL_VO_VALON', 'TRANSFORMATIONS', 'TAXE_PARAFISCALE', 'day','TAX_RATE')"
   ]
  },
  {
   "cell_type": "code",
   "execution_count": 10,
   "metadata": {},
   "outputs": [],
   "source": [
    "# Cast all float values into string (for power bi format ??)\n",
    "for c in df_mx_outer_sm_opv.columns:\n",
    "    df_mx_outer_sm_opv = df_mx_outer_sm_opv.withColumn(c, F.col(c).cast('string'))"
   ]
  },
  {
   "cell_type": "code",
   "execution_count": 11,
   "metadata": {},
   "outputs": [
    {
     "data": {
      "text/plain": [
       "DataFrame[COUNTRY: string, VIN: string, VPVU: string, DATMEC: string, INDDEMO: string, CO2MIXTE: string, HABEXTT: string, HABEXTC: string, FAMILLE: string, LIBFAMI: string, COD_MOTOR: string, DATDEM: string, DATIMMAT: string, CODOP1: string, CODOP2: string, CODOP3: string, CODOP4: string, CODOP5: string, CODPROM: string, CODPROM2: string, REMIPOUR: string, DATMAD: string, DATEXPC: string, DATARCR: string, LIBCOMBIPACK: string, CODCPRO: string, LIBELLE: string, DATPROD: string, DATMRES: string, CODOP1_LIBELLE: string, CODOP2_LIBELLE: string, CODOP3_LIBELLE: string, CODOP4_LIBELLE: string, CODOP5_LIBELLE: string, CODE_CLI_2: string, CODE_PAYS_IMPLANT: string, CODE_VER: string, LIB_VER: string, DT_FACT: string, DT_COMM_CLI_FIN_VD: string, DATIMM: string, CODE_CMP: string, LIB_CMP: string, CODE_CND: string, LIB_CND: string, CODE_CLI: string, LIB_CLI: string, CODE_SEG: string, LIB_SEG: string, CODE_SFA: string, LIB_SFA: string, CODE_FAM: string, LIB_FAM: string, CODE_CMA: string, LIB_CMA: string, CODE_CMI: string, LIB_CMI: string, TYPE_FLOTTE_VD: string, TYPE_OPE_ESSOR: string, CODE_PROFESSION_VD: string, CODE_PROMO: string, CODE_PROMO2: string, ANNEE_MOIS: string, VOLUME_AJ: string, PRIX_VENTE: string, MACOM_CONSO: string, MACOM_CONSO_VERSION: string, MACOM_ENTITE: string, MACOM_ENTITE_AJ: string, MACOM_ENTITE_OPTION: string, PRIX_VENTE_AJ: string, PV_VERSION: string, MACOM_CONSO_AJ: string, MACOM_CONSO_OPTION: string, MACOM_ENTITE_VERSION: string, RBCV_AJ: string, PV_OPTIONS: string, NCL_CODCRE: string, BRAND: string, DATE_SALE: string, DATE_ORDER: string, LIB_TYPUTIL: string, TOT_ADV_AFT_TAX: string, TOT_ADV_PRE_TAX: string, TRADE_IN_AID_PRE: string, DISC_AFT: string, DISC_PRE: string, VIN_DM: string, VEH_AGE: string, STOCK_AGE: string, DELIVERY_TIME: string]"
      ]
     },
     "execution_count": 11,
     "metadata": {},
     "output_type": "execute_result"
    }
   ],
   "source": [
    "df_mx_outer_sm_opv.drop_duplicates()"
   ]
  },
  {
   "cell_type": "markdown",
   "metadata": {},
   "source": [
    "### Writing the result in Oracle DB (Exadata)"
   ]
  },
  {
   "cell_type": "code",
   "execution_count": 12,
   "metadata": {},
   "outputs": [],
   "source": [
    "column_values_ctry = {'France':'France','Belgique':'Belgium','Italie':'Italy','Espagne':'Spain','Grande':'Great Britain','Gde-Bretagne':'Great Britain','Allemagne':'Germany','Pologne':'Poland','Autriche':'Austria','Pays Bas':'Netherlands','Pays-bas':'Netherlands','Pays':'Netherlands','Portugal':'Portugal'}\n",
    "df_mx_outer_sm_opv=df_mx_outer_sm_opv.replace(to_replace=column_values_ctry, subset=['COUNTRY'])"
   ]
  },
  {
   "cell_type": "code",
   "execution_count": 13,
   "metadata": {},
   "outputs": [
    {
     "data": {
      "text/plain": [
       "['COUNTRY',\n",
       " 'VIN',\n",
       " 'VPVU',\n",
       " 'DATMEC',\n",
       " 'INDDEMO',\n",
       " 'CO2MIXTE',\n",
       " 'HABEXTT',\n",
       " 'HABEXTC',\n",
       " 'FAMILLE',\n",
       " 'LIBFAMI',\n",
       " 'COD_MOTOR',\n",
       " 'DATDEM',\n",
       " 'DATIMMAT',\n",
       " 'CODOP1',\n",
       " 'CODOP2',\n",
       " 'CODOP3',\n",
       " 'CODOP4',\n",
       " 'CODOP5',\n",
       " 'CODPROM',\n",
       " 'CODPROM2',\n",
       " 'REMIPOUR',\n",
       " 'DATMAD',\n",
       " 'DATEXPC',\n",
       " 'DATARCR',\n",
       " 'LIBCOMBIPACK',\n",
       " 'CODCPRO',\n",
       " 'LIBELLE',\n",
       " 'DATPROD',\n",
       " 'DATMRES',\n",
       " 'CODOP1_LIBELLE',\n",
       " 'CODOP2_LIBELLE',\n",
       " 'CODOP3_LIBELLE',\n",
       " 'CODOP4_LIBELLE',\n",
       " 'CODOP5_LIBELLE',\n",
       " 'CODE_CLI_2',\n",
       " 'CODE_PAYS_IMPLANT',\n",
       " 'CODE_VER',\n",
       " 'LIB_VER',\n",
       " 'DT_FACT',\n",
       " 'DT_COMM_CLI_FIN_VD',\n",
       " 'DATIMM',\n",
       " 'CODE_CMP',\n",
       " 'LIB_CMP',\n",
       " 'CODE_CND',\n",
       " 'LIB_CND',\n",
       " 'CODE_CLI',\n",
       " 'LIB_CLI',\n",
       " 'CODE_SEG',\n",
       " 'LIB_SEG',\n",
       " 'CODE_SFA',\n",
       " 'LIB_SFA',\n",
       " 'CODE_FAM',\n",
       " 'LIB_FAM',\n",
       " 'CODE_CMA',\n",
       " 'LIB_CMA',\n",
       " 'CODE_CMI',\n",
       " 'LIB_CMI',\n",
       " 'TYPE_FLOTTE_VD',\n",
       " 'TYPE_OPE_ESSOR',\n",
       " 'CODE_PROFESSION_VD',\n",
       " 'CODE_PROMO',\n",
       " 'CODE_PROMO2',\n",
       " 'ANNEE_MOIS',\n",
       " 'VOLUME_AJ',\n",
       " 'PRIX_VENTE',\n",
       " 'MACOM_CONSO',\n",
       " 'MACOM_CONSO_VERSION',\n",
       " 'MACOM_ENTITE',\n",
       " 'MACOM_ENTITE_AJ',\n",
       " 'MACOM_ENTITE_OPTION',\n",
       " 'PRIX_VENTE_AJ',\n",
       " 'PV_VERSION',\n",
       " 'MACOM_CONSO_AJ',\n",
       " 'MACOM_CONSO_OPTION',\n",
       " 'MACOM_ENTITE_VERSION',\n",
       " 'RBCV_AJ',\n",
       " 'PV_OPTIONS',\n",
       " 'NCL_CODCRE',\n",
       " 'BRAND',\n",
       " 'DATE_SALE',\n",
       " 'DATE_ORDER',\n",
       " 'LIB_TYPUTIL',\n",
       " 'TOT_ADV_AFT_TAX',\n",
       " 'TOT_ADV_PRE_TAX',\n",
       " 'TRADE_IN_AID_PRE',\n",
       " 'DISC_AFT',\n",
       " 'DISC_PRE',\n",
       " 'VIN_DM',\n",
       " 'VEH_AGE',\n",
       " 'STOCK_AGE',\n",
       " 'DELIVERY_TIME']"
      ]
     },
     "execution_count": 13,
     "metadata": {},
     "output_type": "execute_result"
    }
   ],
   "source": [
    "df_mx_outer_sm_opv.columns"
   ]
  },
  {
   "cell_type": "code",
   "execution_count": null,
   "metadata": {},
   "outputs": [],
   "source": [
    "df_mx_outer_sm_opv.write.option(\"truncate\", \"true\").jdbc(url=db_uri, table=\"SMKT003_MXUSM\", mode=\"overwrite\")"
   ]
  },
  {
   "cell_type": "code",
   "execution_count": 1,
   "metadata": {},
   "outputs": [
    {
     "ename": "NameError",
     "evalue": "name 'spark_session' is not defined",
     "output_type": "error",
     "traceback": [
      "\u001b[0;31m---------------------------------------------------------------------------\u001b[0m",
      "\u001b[0;31mNameError\u001b[0m                                 Traceback (most recent call last)",
      "\u001b[0;32m<ipython-input-1-cc3eca1b4f04>\u001b[0m in \u001b[0;36m<module>\u001b[0;34m\u001b[0m\n\u001b[0;32m----> 1\u001b[0;31m \u001b[0mspark_session\u001b[0m\u001b[0;34m.\u001b[0m\u001b[0mstop\u001b[0m\u001b[0;34m(\u001b[0m\u001b[0;34m)\u001b[0m\u001b[0;34m\u001b[0m\u001b[0m\n\u001b[0m",
      "\u001b[0;31mNameError\u001b[0m: name 'spark_session' is not defined"
     ]
    }
   ],
   "source": [
    "spark_session.stop()"
   ]
  }
 ],
 "metadata": {
  "kernelspec": {
   "display_name": "Python 3",
   "language": "python",
   "name": "python3"
  },
  "language_info": {
   "codemirror_mode": {
    "name": "ipython",
    "version": 3
   },
   "file_extension": ".py",
   "mimetype": "text/x-python",
   "name": "python",
   "nbconvert_exporter": "python",
   "pygments_lexer": "ipython3",
   "version": "3.6.4"
  }
 },
 "nbformat": 4,
 "nbformat_minor": 4
}
