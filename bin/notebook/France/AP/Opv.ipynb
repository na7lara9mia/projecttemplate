{
 "cells": [
  {
   "cell_type": "markdown",
   "metadata": {},
   "source": [
    "<img src=\"media/logo_psa.jpg\" width=\"300\">\n",
    "\n",
    "<h1><center>Constructing OPV</center></h1>"
   ]
  },
  {
   "cell_type": "markdown",
   "metadata": {},
   "source": [
    "### Imports"
   ]
  },
  {
   "cell_type": "code",
   "execution_count": 1,
   "metadata": {},
   "outputs": [
    {
     "name": "stdout",
     "output_type": "stream",
     "text": [
      "/gpfs/user/e587246/dco00/conf/application.yml\n",
      "/gpfs/user/e587246/dco00\n"
     ]
    }
   ],
   "source": [
    "%load_ext autoreload\n",
    "%autoreload 2\n",
    "import os\n",
    "import datetime\n",
    "import pandas as pd\n",
    "\n",
    "from pyspark.sql import functions as F\n",
    "import numpy as  np\n",
    "\n",
    "from distribution_cost.configuration import spark_config\n",
    "from distribution_cost.configuration.app import AppConfig\n",
    "from distribution_cost.configuration.data import DataConfig\n",
    "from distribution_cost.domain import kpis"
   ]
  },
  {
   "cell_type": "code",
   "execution_count": 2,
   "metadata": {},
   "outputs": [
    {
     "data": {
      "text/plain": [
       "'jdbc:oracle:thin:BRC03_VMECA/8sUFYtvK@//pyox2k01:1521/BRCEX_PP2'"
      ]
     },
     "execution_count": 2,
     "metadata": {},
     "output_type": "execute_result"
    }
   ],
   "source": [
    "# Database uri\n",
    "app_config = AppConfig()\n",
    "\n",
    "db_uri = app_config.db_uri_jdbc\n",
    "db_uri"
   ]
  },
  {
   "cell_type": "code",
   "execution_count": 3,
   "metadata": {},
   "outputs": [],
   "source": [
    "# Create spark session\n",
    "spark_context, spark_session = spark_config.get_spark(app_name=\"app-distribution-cost\",\n",
    "                                                      executors=2, executor_cores=4, executor_mem='5g',\n",
    "                                                      dynamic_allocation=True, max_executors=8)"
   ]
  },
  {
   "cell_type": "code",
   "execution_count": 4,
   "metadata": {},
   "outputs": [],
   "source": [
    "dfOPV = spark_session.read.option(\"fetchsize\", 10000).jdbc(db_uri, table=\"SMKT002_OPV_TEMP\").cache()"
   ]
  },
  {
   "cell_type": "code",
   "execution_count": 29,
   "metadata": {},
   "outputs": [
    {
     "data": {
      "text/plain": [
       "['ACC',\n",
       " 'ACC_PRE',\n",
       " 'ANNEE_VEH_REP',\n",
       " 'BONUS_MALUS',\n",
       " 'NCL_CODCRE',\n",
       " 'COD_PROM',\n",
       " 'CONTRAT_SERVICE',\n",
       " 'DATE_IMMAT_REP',\n",
       " 'DATE_LIV_REELLE',\n",
       " 'DATE_LIVRAISON',\n",
       " 'OFR_DATE',\n",
       " 'ENER_REP',\n",
       " 'FINITION',\n",
       " 'FRAIS',\n",
       " 'COD_BCD',\n",
       " 'TYPECLI',\n",
       " 'STATUS_CDC',\n",
       " 'COD_COMMANDE',\n",
       " 'KM_REP',\n",
       " 'LCDV',\n",
       " 'TYPE_CONTRAT',\n",
       " 'MARQUE_REPRISE',\n",
       " 'MODELO_REPRISE',\n",
       " 'OPCIONES',\n",
       " 'OPCIONES_PRE',\n",
       " 'PRIX_FINAL',\n",
       " 'NCL_PD_SUBTOTAL2',\n",
       " 'PRIX_HT_CATALOGUE27',\n",
       " 'tarif+OPTTIONS',\n",
       " 'PRIX_TTC_CATALOGUE',\n",
       " 'NCL_PR_SUBTOTAL2',\n",
       " 'TARIF_VEHICULE',\n",
       " 'TARIF_VEHICULE_PRE',\n",
       " 'tarif+options_PRE',\n",
       " 'Taxe parafiscale',\n",
       " 'TOTAL_REMISE',\n",
       " 'TOTAL_REMISE_PRE',\n",
       " 'INI_GAR',\n",
       " 'FIN_GAR',\n",
       " 'PRIX_HT_CATALOGUE39',\n",
       " 'TRANSFORMATIONS',\n",
       " 'TRANSFORMATIONS_PRE',\n",
       " 'VER_ENER',\n",
       " 'AIDE_REPRISE',\n",
       " 'TYPE_ACHAT',\n",
       " 'FINANCEMENT',\n",
       " 'FRAIS_ANEXXES',\n",
       " 'VEHICULE_REPENDRE_PRE',\n",
       " 'VER_VEH',\n",
       " 'NCL_VO_PRIMACONVERSION',\n",
       " 'NCL_VO_VALON',\n",
       " 'NCL_VO_IMPAYUDAREC',\n",
       " 'CRE_MARCA',\n",
       " 'CDC_NUMVIN',\n",
       " 'CRE_RAISOC',\n",
       " 'COD_OFR',\n",
       " 'NUMCLI',\n",
       " 'DR',\n",
       " 'zone',\n",
       " 'DATE_COMANDE']"
      ]
     },
     "execution_count": 29,
     "metadata": {},
     "output_type": "execute_result"
    }
   ],
   "source": [
    "dfOPV.columns"
   ]
  },
  {
   "cell_type": "markdown",
   "metadata": {},
   "source": [
    "# Treatments"
   ]
  },
  {
   "cell_type": "code",
   "execution_count": 5,
   "metadata": {},
   "outputs": [],
   "source": [
    "dfOPV = dfOPV.select('CDC_NUMVIN','CRE_MARCA','NCL_CODCRE','DATE_COMANDE','NCL_PD_SUBTOTAL2','FINITION','ACC_PRE','NCL_VO_IMPAYUDAREC','FRAIS_ANEXXES','TOTAL_REMISE_PRE','TOTAL_REMISE','PRIX_FINAL','tarif+options_PRE','tarif+OPTTIONS','NCL_VO_PRIMACONVERSION','ACC','CONTRAT_SERVICE','BONUS_MALUS','NCL_VO_VALON','TRANSFORMATIONS','Taxe parafiscale').filter(~(F.col('CDC_NUMVIN')=='                 ')).cache()\n",
    "dfOPV = dfOPV.drop_duplicates()\n",
    "dfOPV = dfOPV.orderBy('DATE_COMANDE', ascending=False).coalesce(1).dropDuplicates(subset=['CDC_NUMVIN'])"
   ]
  },
  {
   "cell_type": "code",
   "execution_count": 6,
   "metadata": {},
   "outputs": [],
   "source": [
    "mapping_columns_france_ap = {'CDC_NUMVIN':'VIN', 'COD_OFR':'Code offre', 'zone':'Zone','DR':'Direction régionale','NCL_CODCRE':'Code point de vente','FINITION':'Finition','DATE_COMMANDE':'Date de commande','PRIX_FINAL':'Prix final TTC','OPCIONES':'Options TTC','OPCIONES_PRE':'Options HT','ACC':'Accessoires TTC','ACC_PRE':'Accessoires HT','TARIF_VEHICULE':'Tarif du vehicule acheté TTC','TARIF_VEHICULE_PRE':'Tarif du vehicule acheté HT','TOTAL_REMISE':'Total de la remise TTC','TOTAL_REMISE_PRE':'Total de la remise HT','NCL_VO_VALON':'Prix du véhicule repris TTC','VEHICULE_REPENDRE_PRE':'Prix du véhicule repris HT','tarif+OPTIONS':'List price TTC','tarif+options_PRE':'List price HT','NCL_PD_SUBTOTAL2':'Prix facturé HT','NCL_VO_IMPAYUDAREC':'Aide à la reprise TTC','FRAIS_ANEXXES':'Frais annexes TTC','NCL_VO_PRIMACONVERSION':'Prime à la conversion TTC','TRANSFORMATIONS':'Transformations TTC','TRANSFORMATIONS_PRE':'Transformations HT','CONTRAT_SERVICE':'Contrat service TTC','BONUS_MALUS':'Bonus malus TTC','Taxe parafiscale':'Taxe parafiscale TTC'}\n",
    "mapping_columns_france_ac_ds = {'CDC_NUMVIN':'VIN', 'COD_OFR':'Code offre', 'zone':'Zone','DR':'Direction régionale','NCL_CODCRE':'Code point de vente','FINITION':'Finition','DATE_COMMANDE':'Date de commande','PRIX_FINAL':'Prix final TTC','OPCIONES':'Options TTC','OPCIONES_PRE':'Options HT','ACC':'Accessoires TTC','ACC_PRE':'Accessoires HT','TARIF_VEHICULE':'Tarif du vehicule acheté TTC','TARIF_VEHICULE_PRE':'Tarif du vehicule acheté HT','TOTAL_REMISE':'Total de la remise TTC','TOTAL_REMISE_PRE':'Total de la remise HT','NCL_VO_VALON':'Prix du véhicule repris TTC','VEHICULE_REPENDRE_PRE':'Prix du véhicule repris HT','tarif+OPTIONS':'List price TTC','tarif+options_PRE':'List price HT','NCL_PD_SUBTOTAL2':'Prix facturé HT','NCL_VO_IMPAYUDAREC':'Aide à la reprise TTC','FRAIS_ANEXXES':'Frais annexes TTC','NCL_VO_PRIMACONVERSION':'Prime à la conversion TTC','TRANSFORMATIONS':'Transformations TTC','TRANSFORMATIONS_PRE':'Transformations HT','CONTRAT_SERVICE':'Contrat service TTC','BONUS_MALUS':'Bonus malus TTC'}\n",
    "mapping_columns_austria = {'CDC_NUMVIN':'VIN', 'COD_OFR':'Code offre', 'zone':'Zone','DR':'Direction régionale','NCL_CODCRE':'Code point de vente','FINITION':'Finition','DATE_COMMANDE':'Date de commande','AUFZAHLUNG':'Prix final TTC','OPCIONES':'Options TTC','OPCIONES_PRE':'Options HT','ACC':'Accessoires TTC','ACC_PRE':'Accessoires HT','TARIF_VEHICULE':'Tarif du vehicule acheté TTC','TARIF_VEHICULE_PRE':'Tarif du vehicule acheté HT','TOTAL_REMISE':'Total de la remise TTC','TOTAL_REMISE_PRE':'Total de la remise HT','NCL_VO_VALON':'Prix du véhicule repris TTC','VEHICULE_REPENDRE_PRE':'Prix du véhicule repris HT','tarif+OPTIONS':'List price TTC','tarif+options_PRE':'List price HT','NCL_PD_SUBTOTAL2':'Prix facturé HT'}\n",
    "mapping_columns_belgium_ac_ds = {'CDC_NUMVIN':'VIN', 'COD_OFR':'Code offre', 'zone':'Zone','DR':'Direction régionale','NCL_CODCRE':'Code point de vente','FINITION':'Finition','DATE_COMMANDE':'Date de commande','NCL_PR_SUBTOTAL2':'Prix final TTC','OPCIONES':'Options TTC','OPCIONES_PRE':'Options HT','ACC':'Accessoires TTC','ACC_PRE':'Accessoires HT','TARIF_VEHICULE':'Tarif du vehicule acheté TTC','TARIF_VEHICULE_PRE':'Tarif du vehicule acheté HT','TOTAL_REMISE':'Total de la remise TTC','TOTAL_REMISE_PRE':'Total de la remise HT','NCL_VO_VALON':'Prix du véhicule repris TTC','VEHICULE_REPENDRE_PRE':'Prix du véhicule repris HT','tarif+OPTIONS':'List price TTC','tarif+options_PRE':'List price HT','NCL_PD_SUBTOTAL2':'Prix facturé HT','NCL_VHU_CIVA':'Aide à la reprise TTC','OFR_DESCUENTOPRIX':'Remise (Korting) TTC','NCL_PR_FLOTADES':'Remise stock TTC'}\n",
    "mapping_columns_portugual = {'CDC_NUMVIN':'VIN', 'COD_OFR':'Code offre', 'zone':'Zone','DR':'Direction régionale','NCL_CODCRE':'Code point de vente','FINITION':'Finition','DATE_COMMANDE':'Date de commande','NCL_PR_SUBTOTAL2':'Prix final TTC','OPCIONES':'Options TTC','OPCIONES_PRE':'Options HT','ACC':'Accessoires TTC','ACC_PRE':'Accessoires HT','TARIF_VEHICULE':'Tarif du vehicule acheté TTC','TARIF_VEHICULE_PRE':'Tarif du vehicule acheté HT','TOTAL_REMISE':'Total de la remise TTC','TOTAL_REMISE_PRE':'Total de la remise HT','NCL_VO_VALON':'Prix du véhicule repris TTC','VEHICULE_REPENDRE_PRE':'Prix du véhicule repris HT','tarif+OPTIONS':'List price TTC','tarif+options_PRE':'List price HT','TRANSFORMATIONS':'Transformations TTC','TRANSFORMATIONS_PRE':'Transformations HT','NCL_VN_SERVPRIXTOT':'Contrat service TTC','IPT':'IPT TTC','NCL_PD_SUBTOTAL2':'Sous-total HT','WCS_TARIF_OFR_TTC':'Services connectés TTC','NCL_TRANSFOR1PVP':'Modules complémentaires TTC','NCL_PD_IVAPRIX':'TVA'}\n",
    "mapping_columns_belgim_ap = {'CDC_NUMVIN':'VIN', 'COD_OFR':'Code offre', 'zone':'Zone','DR':'Direction régionale','NCL_CODCRE':'Code point de vente','FINITION':'Finition','DATE_COMMANDE':'Date de commande','PRIX_FINAL':'Prix final TTC','OPCIONES':'Options TTC','OPCIONES_PRE':'Options HT','ACC':'Accessoires TTC','ACC_PRE':'Accessoires HT','TARIF_VEHICULE':'Tarif du vehicule acheté TTC','TARIF_VEHICULE_PRE':'Tarif du vehicule acheté HT','TOTAL_REMISE':'Total de la remise TTC','TOTAL_REMISE_PRE':'Total de la remise HT','NCL_VO_VALON':'Prix du véhicule repris TTC','VEHICULE_REPENDRE_PRE':'Prix du véhicule repris HT','tarif+OPTIONS':'List price TTC','tarif+options_PRE':'List price HT','NCL_PD_SUBTOTAL2':'Prix facturé HT','NCL_VHU_CIVA':'Aide à la reprise TTC','OFR_DESCUENTOPRIX':'Remise (Korting) TTC','NCL_PR_FLOTADES':'Remise stock TTC'}\n",
    "mapping_columns_spain_ap = {'CDC_NUMVIN':'VIN', 'COD_OFR':'Code offre', 'zone':'Zone','DR':'Direction régionale','NCL_CODCRE':'Code point de vente','FINITION':'Finition','DATE_COMMANDE':'Date de commande','PRIX_FINAL':'Prix final TTC','OPCIONES':'Options TTC','OPCIONES_PRE':'Options HT','ACC':'Accessoires TTC','ACC_PRE':'Accessoires HT','TARIF_VEHICULE':'Tarif du vehicule acheté TTC','TARIF_VEHICULE_PRE':'Tarif du vehicule acheté HT','TOTAL_REMISE':'Total de la remise TTC','TOTAL_REMISE_PRE':'Total de la remise HT','NCL_VO_VALON':'Prix du véhicule repris TTC','VEHICULE_REPENDRE_PRE':'Prix du véhicule repris HT','tarif+OPTIONS':'List price TTC','tarif+options_PRE':'List price HT','NCL_PD_SUBTOTAL2':'Prix facturé HT','SUPLIDOS':'Frais annexes TTC','TOTAL_SERVICIOS':'Total services TTC','NCL_PD_IMPMATPRIX':'Matriculation TTC','DEDUCCION_IMPUESTOS':'Déductions TTC'}\n",
    "mapping_columns_spain_ac_ds = {'CDC_NUMVIN':'VIN', 'COD_OFR':'Code offre', 'zone':'Zone','DR':'Direction régionale','NCL_CODCRE':'Code point de vente','FINITION':'Finition','DATE_COMMANDE':'Date de commande','PRIX_FINAL':'Prix final TTC','OPCIONES':'Options TTC','OPCIONES_PRE':'Options HT','ACC':'Accessoires TTC','ACC_PRE':'Accessoires HT','TARIF_VEHICULE':'Tarif du vehicule acheté TTC','TARIF_VEHICULE_PRE':'Tarif du vehicule acheté HT','TOTAL_REMISE':'Total de la remise TTC','TOTAL_REMISE_PRE':'Total de la remise HT','NCL_VO_VALON':'Prix du véhicule repris TTC','VEHICULE_REPENDRE_PRE':'Prix du véhicule repris HT','tarif+OPTIONS':'List price TTC','tarif+options_PRE':'List price HT','NCL_PD_SUBTOTAL2':'Prix facturé HT','SUPLIDOS':'Frais annexes TTC','TOTAL_SERVICIOS':'Total services TTC','NCL_PD_IMPMATPRIX':'Matriculation TTC','NCL_PR_DEDUCC_IM':'Déductions TTC'}\n",
    "mapping_columns_germany = {'CDC_NUMVIN':'VIN', 'COD_OFR':'Code offre', 'zone':'Zone','DR':'Direction régionale','NCL_CODCRE':'Code point de vente','FINITION':'Finition','DATE_COMMANDE':'Date de commande','PRIX_FINAL':'Prix final TTC','OPCIONES':'Options TTC','OPCIONES_PRE':'Options HT','ACC':'Accessoires TTC','ACC_PRE':'Accessoires HT','TARIF_VEHICULE':'Tarif du vehicule acheté TTC','TARIF_VEHICULE_PRE':'Tarif du vehicule acheté HT','TOTAL_REMISE':'Total de la remise TTC','TOTAL_REMISE_PRE':'Total de la remise HT','NCL_VO_VALON':'Prix du véhicule repris TTC','VEHICULE_REPENDRE_PRE':'Prix du véhicule repris HT','tarif+OPTIONS':'List price TTC','tarif+options_PRE':'List price HT','NCL_PD_SUBTOTAL2':'Prix facturé HT','überführung':'überführung HT','SERVICELEISTUNGENPR':'Services de personnalisation TTC','SERVICELEISTUNGENPD':'Services de personnalisation HT'}\n",
    "mapping_columns_italy_ap = {'CDC_NUMVIN':'VIN', 'COD_OFR':'Code offre', 'zone':'Zone','DR':'Direction régionale','NCL_CODCRE':'Code point de vente','FINITION':'Finition','DATE_COMMANDE':'Date de commande','AUFZAHLUNG':'Prix final TTC','OPCIONES':'Options TTC','OPCIONES_PRE':'Options HT','ACC':'Accessoires TTC','ACC_PRE':'Accessoires HT','TARIF_VEHICULE':'Tarif du vehicule acheté TTC','TARIF_VEHICULE_PRE':'Tarif du vehicule acheté HT','TOTAL_REMISE':'Total de la remise TTC','TOTAL_REMISE_PRE':'Total de la remise HT','NCL_VO_VALON':'Prix du véhicule repris TTC','VEHICULE_REPENDRE_PRE':'Prix du véhicule repris HT','tarif+OPTIONS':'List price TTC','tarif+options_PRE':'List price HT','NCL_PD_SUBTOTAL2':'Prix facturé HT','NCL_PR_DEDUCC_IM':'Déductions TTC','IPT':'IPT TTC','SPESE_GES':'Frais de gestion TTC','NCL_VN_SUPLIDOS':'Frais  divers TTC','WCS_TARIF_OFR_TTC + NCL_VN_SERVPRIXTOT':'Services TTC','NCL_PR_DESVPO':'Surévaluation','NCL_MRT':'Inscription taxable','NCL_FMR':'Exempt de frais','KIT_SICUREZZA':'Safety box TTC'}\n",
    "mapping_columns_italy_ac_ds = {'CDC_NUMVIN':'VIN', 'COD_OFR':'Code offre', 'zone':'Zone','DR':'Direction régionale','NCL_CODCRE':'Code point de vente','FINITION':'Finition','DATE_COMMANDE':'Date de commande','AUFZAHLUNG':'Prix final TTC','OPCIONES':'Options TTC','OPCIONES_PRE':'Options HT','ACC':'Accessoires TTC','ACC_PRE':'Accessoires HT','TARIF_VEHICULE':'Tarif du vehicule acheté TTC','TARIF_VEHICULE_PRE':'Tarif du vehicule acheté HT','TOTAL_REMISE':'Total de la remise TTC','TOTAL_REMISE_PRE':'Total de la remise HT','NCL_VO_VALON':'Prix du véhicule repris TTC','VEHICULE_REPENDRE_PRE':'Prix du véhicule repris HT','tarif+OPTIONS':'List price TTC','tarif+options_PRE':'List price HT','NCL_PD_SUBTOTAL2':'Prix facturé HT','NCL_PR_DEDUCC_IM':'Déductions TTC','IPT':'IPT TTC','SPESE_GES':'Frais de gestion TTC','NCL_VN_SUPLIDOS':'Frais  divers TTC','WCS_TARIF_OFR_TTC + NCL_VN_SERVPRIXTOT':'Services TTC','NCL_PR_DESVPO':'Surévaluation','NCL_MRT':'Inscription taxable','NCL_FMR':'Exempt de frais','NCL_PR_PRECIOACF':'Safety box TTC'}\n"
   ]
  },
  {
   "cell_type": "code",
   "execution_count": 7,
   "metadata": {},
   "outputs": [],
   "source": [
    "dfOPV = dfOPV.withColumnRenamed('CDC_VIN', 'VIN')\n",
    "# dfOPV = dfOPV.withColumnRenamed('Taxe parafiscale', 'TAXE_PARAFISCALE')\n",
    "# dfOPV = dfOPV.withColumn('LIB_PAYS', F.lit('France'))"
   ]
  },
  {
   "cell_type": "code",
   "execution_count": 8,
   "metadata": {},
   "outputs": [],
   "source": [
    "dfOPV= dfOPV.withColumn('NCL_PD_SUBTOTAL2', F.when(F.col('NCL_PD_SUBTOTAL2')=='0', np.nan).otherwise(F.col('NCL_PD_SUBTOTAL2')))\n",
    "dfOPV= dfOPV.withColumn('tarif+OPTTIONS', F.when(F.col('tarif+OPTTIONS')=='0', np.nan).otherwise(F.col('tarif+OPTTIONS')))\n",
    "dfOPV= dfOPV.withColumn('tarif+options_PRE', F.when(F.col('tarif+options_PRE')=='0', np.nan).otherwise(F.col('tarif+options_PRE')))"
   ]
  },
  {
   "cell_type": "code",
   "execution_count": 34,
   "metadata": {},
   "outputs": [
    {
     "name": "stdout",
     "output_type": "stream",
     "text": [
      "root\n",
      " |-- CDC_NUMVIN: string (nullable = true)\n",
      " |-- CRE_MARCA: string (nullable = true)\n",
      " |-- NCL_CODCRE: string (nullable = true)\n",
      " |-- DATE_COMANDE: string (nullable = true)\n",
      " |-- NCL_PD_SUBTOTAL2: string (nullable = true)\n",
      " |-- FINITION: string (nullable = true)\n",
      " |-- ACC_PRE: string (nullable = true)\n",
      " |-- NCL_VO_IMPAYUDAREC: string (nullable = true)\n",
      " |-- FRAIS_ANEXXES: string (nullable = true)\n",
      " |-- TOTAL_REMISE_PRE: string (nullable = true)\n",
      " |-- TOTAL_REMISE: string (nullable = true)\n",
      " |-- PRIX_FINAL: string (nullable = true)\n",
      " |-- tarif+options_PRE: string (nullable = true)\n",
      " |-- tarif+OPTTIONS: string (nullable = true)\n",
      " |-- NCL_VO_PRIMACONVERSION: string (nullable = true)\n",
      " |-- ACC: string (nullable = true)\n",
      " |-- CONTRAT_SERVICE: string (nullable = true)\n",
      " |-- BONUS_MALUS: string (nullable = true)\n",
      " |-- NCL_VO_VALON: string (nullable = true)\n",
      " |-- TRANSFORMATIONS: string (nullable = true)\n",
      " |-- Taxe parafiscale: string (nullable = true)\n",
      "\n"
     ]
    }
   ],
   "source": [
    "dfOPV.printSchema()"
   ]
  },
  {
   "cell_type": "code",
   "execution_count": 13,
   "metadata": {},
   "outputs": [],
   "source": [
    "dfOPV = dfOPV.withColumn('DATE_COMANDE',F.to_date('DATE_COMANDE','yyyy-MM-dd'))\n",
    "dfOPV = dfOPV.withColumn('LIB_PAYS',F.lit('France'))\n",
    "dfOPV = dfOPV.withColumnRenamed('Taxe parafiscale','TAXE_PARAFISCALE')"
   ]
  },
  {
   "cell_type": "markdown",
   "metadata": {},
   "source": [
    "## Load on cluster"
   ]
  },
  {
   "cell_type": "code",
   "execution_count": 7,
   "metadata": {},
   "outputs": [],
   "source": [
    "dfOPV = spark_session.read.load(\"/user/e587247/data/raw/opvv30c\")"
   ]
  },
  {
   "cell_type": "code",
   "execution_count": 8,
   "metadata": {},
   "outputs": [],
   "source": [
    "df_with_year_and_month_and_day = (\n",
    "    dfOPV.withColumn(\"year\", F.year(F.col(\"DATE_COMANDE\")))\n",
    "                   .withColumn(\"month\", F.month(F.col(\"DATE_COMANDE\")))\n",
    ") "
   ]
  },
  {
   "cell_type": "code",
   "execution_count": 9,
   "metadata": {},
   "outputs": [],
   "source": [
    "df_with_year_and_month_and_day.write.mode(\"append\").partitionBy(\"Country\",\"CRE_MARCA\",\"year\",\"month\").parquet(\"/user/brc03/vmeca/data/refined/opv\")"
   ]
  },
  {
   "cell_type": "code",
   "execution_count": 8,
   "metadata": {},
   "outputs": [],
   "source": [
    "dfOPV.drop('year','month','day').write.option(\"truncate\",\"true\").jdbc(url=db_uri, table=\"SMKT008_OPV\", mode=\"overwrite\")"
   ]
  },
  {
   "cell_type": "code",
   "execution_count": 10,
   "metadata": {},
   "outputs": [],
   "source": [
    "spark_session.stop()"
   ]
  }
 ],
 "metadata": {
  "kernelspec": {
   "display_name": "Python 3",
   "language": "python",
   "name": "python3"
  },
  "language_info": {
   "codemirror_mode": {
    "name": "ipython",
    "version": 3
   },
   "file_extension": ".py",
   "mimetype": "text/x-python",
   "name": "python",
   "nbconvert_exporter": "python",
   "pygments_lexer": "ipython3",
   "version": "3.6.4"
  }
 },
 "nbformat": 4,
 "nbformat_minor": 4
}
