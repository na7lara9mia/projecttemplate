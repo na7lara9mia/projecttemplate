{
 "cells": [
  {
   "cell_type": "code",
   "execution_count": 1,
   "metadata": {},
   "outputs": [
    {
     "name": "stdout",
     "output_type": "stream",
     "text": [
      "/gpfs/user/e587246/dco00/conf/application.yml\n",
      "/gpfs/user/e587246/dco00\n"
     ]
    }
   ],
   "source": [
    "%load_ext autoreload\n",
    "%autoreload 2\n",
    "import os\n",
    "import datetime\n",
    "import pandas as pd\n",
    "pd.set_option('display.max_rows', 500)\n",
    "pd.set_option('display.max_columns', 100)\n",
    "\n",
    "from pyspark.sql import functions as F\n",
    "from pyspark.sql.types import *\n",
    "\n",
    "from distribution_cost.configuration import spark_config\n",
    "from distribution_cost.configuration.app import AppConfig\n",
    "from distribution_cost.configuration.data import DataConfig\n",
    "from distribution_cost.infra import oracle\n",
    "from distribution_cost.domain import kpis"
   ]
  },
  {
   "cell_type": "code",
   "execution_count": 2,
   "metadata": {},
   "outputs": [
    {
     "data": {
      "text/plain": [
       "'jdbc:oracle:thin:BRC_E587247/uOR3hLZr@//pyox2k01:1521/BRCEX_PP2'"
      ]
     },
     "execution_count": 2,
     "metadata": {},
     "output_type": "execute_result"
    }
   ],
   "source": [
    "# Database uri\n",
    "app_config = AppConfig()\n",
    "db_uri = app_config.db_uri_jdbc\n",
    "db_uri"
   ]
  },
  {
   "cell_type": "code",
   "execution_count": 3,
   "metadata": {},
   "outputs": [],
   "source": [
    "# Create spark session\n",
    "spark_context, spark_session = spark_config.get_spark(app_name=\"app-distribution-cost\",\n",
    "                                                      executors=4, executor_cores=4, executor_mem='4g',\n",
    "                                                      dynamic_allocation=True, max_executors=8)"
   ]
  },
  {
   "cell_type": "code",
   "execution_count": 4,
   "metadata": {},
   "outputs": [],
   "source": [
    "xls_2019 =pd.ExcelFile(\"/gpfs/user/e587247/data/landing/obj/TCD_Budget_2019 MCV_RBCV_Ekimetrics.xlsx\")\n",
    "xls_2018 =pd.ExcelFile(\"/gpfs/user/e587247/data/landing/obj/TCD_RBCV_-_Budget 2018.xlsx\")"
   ]
  },
  {
   "cell_type": "code",
   "execution_count": 49,
   "metadata": {},
   "outputs": [
    {
     "data": {
      "text/plain": [
       "Index(['Marque', 'LIB PAYS', 'mois', 'TYPE', 'LIB SS FAM 2', 'ENERGIE',\n",
       "       'canal AE', 'volume', 'PVR unit', 'MCV unit', 'RBCV unit',\n",
       "       'Prime performance unit', 'Promo client final unit',\n",
       "       'Aides société unit', 'Prime diff unit', 'Buy back unit',\n",
       "       'taux MCV RC130', 'PVR', 'MCV', 'RBCV', 'RM035', 'RM036', 'RM037',\n",
       "       'RM039', 'RM280', 'Year', 'Date'],\n",
       "      dtype='object', name=24)"
      ]
     },
     "execution_count": 49,
     "metadata": {},
     "output_type": "execute_result"
    }
   ],
   "source": [
    "dfOBJ_1 = pd.read_excel(xls_2018,'TCD')\n",
    "dfOBJ_1 = dfOBJ_1.dropna()\n",
    "dfOBJ_1.columns = dfOBJ_1.iloc[0]\n",
    "dfOBJ_1 = dfOBJ_1[1:]\n",
    "dfOBJ_1 = dfOBJ_1.reset_index(drop=True)\n",
    "dfOBJ_1['Year'] = '2018'\n",
    "dfOBJ_1['Date'] = '01/'+ dfOBJ_1['mois'].astype(str) + '/' + dfOBJ_1['Year']\n",
    "\n",
    "for c in dfOBJ_1.columns:\n",
    "    dfOBJ_1=dfOBJ_1.rename(columns={c : c.strip()})\n",
    "    \n",
    "dfOBJ_1 = dfOBJ_1.drop([\"PPI unit\",\"Trsm unit\",\"Trfi unit\",\"AF unit\",\"Maco unit\",\"MCV RC130 unit\",\"PPI\",\"Trsm\",\"Trfi\",\"AF\",\"maco\",\"MCV RC130\"],axis=1)\n",
    "dfOBJ_1.columns\n",
    "\n",
    "dfOBJ_2 = pd.read_excel(xls_2019,'TCD')\n",
    "dfOBJ_2 = dfOBJ_2.dropna()\n",
    "dfOBJ_2.columns = dfOBJ_2.iloc[0]\n",
    "dfOBJ_2 = dfOBJ_2[1:]\n",
    "dfOBJ_2 = dfOBJ_2.reset_index(drop=True)\n",
    "dfOBJ_2['Year'] = '2019'\n",
    "dfOBJ_2['Date'] = '01/'+ dfOBJ_2['mois'].astype(str) + '/' + dfOBJ_2['Year']\n",
    "\n",
    "for c in dfOBJ_2.columns:\n",
    "    dfOBJ_2 = dfOBJ_2.rename(columns={c : c.strip()})\n",
    "\n",
    "dfOBJ_2 = dfOBJ_2.drop([\"PVR unit dev\",\"PPI unit\",\"Trsm unit\",\"Trfi unit\",\"AF unit\",\"Maco unit\",\"MCV RC130 unit\",\"PPI\",\"Trsm\",\"Trfi\",\"AF\",\"maco\",\"MCV RC130\"],axis=1)\n",
    "dfOBJ_2.columns"
   ]
  },
  {
   "cell_type": "code",
   "execution_count": 50,
   "metadata": {},
   "outputs": [],
   "source": [
    "dfOBJ = pd.concat([dfOBJ_1,dfOBJ_2])"
   ]
  },
  {
   "cell_type": "code",
   "execution_count": 51,
   "metadata": {},
   "outputs": [],
   "source": [
    "dfOBJ=dfOBJ.drop_duplicates()"
   ]
  },
  {
   "cell_type": "code",
   "execution_count": 87,
   "metadata": {},
   "outputs": [],
   "source": [
    "dfOBJ['Prime performance unit']=dfOBJ['Prime performance unit'].astype(float)\n",
    "dfOBJ['Promo client final unit']=dfOBJ['Promo client final unit'].astype(float)\n",
    "dfOBJ['Aides société unit']=dfOBJ['Aides société unit'].astype(float)\n",
    "dfOBJ['Prime diff unit']=dfOBJ['Prime diff unit'].astype(float)\n",
    "dfOBJ['MCV']=dfOBJ['MCV'].astype(float)\n",
    "dfOBJ['RM035']=dfOBJ['RM035'].astype(float)\n",
    "dfOBJ['RM039']=dfOBJ['RM039'].astype(float)\n",
    "dfOBJ['RM037']=dfOBJ['RM037'].astype(float)\n",
    "dfOBJ['MCV unit']=dfOBJ['MCV unit'].astype(float)\n",
    "dfOBJ['Buy back unit']=dfOBJ['Buy back unit'].astype(float)\n",
    "dfOBJ['RM280']=dfOBJ['RM280'].astype(float)\n",
    "dfOBJ['taux MCV RC130']=dfOBJ['taux MCV RC130'].astype(float)\n",
    "dfOBJ['RM036']=dfOBJ['RM036'].astype(float)\n",
    "dfOBJ['PVR unit']=dfOBJ['PVR unit'].astype(float)\n",
    "dfOBJ['RBCV unit']=dfOBJ['RBCV unit'].astype(float)\n",
    "dfOBJ['PVR']=dfOBJ['PVR'].astype(float)\n",
    "dfOBJ['RBCV']=dfOBJ['RBCV'].astype(float)\n",
    "dfOBJ['volume']=dfOBJ['volume'].astype(float)\n"
   ]
  },
  {
   "cell_type": "code",
   "execution_count": 53,
   "metadata": {},
   "outputs": [],
   "source": [
    "column_value_fam={'208 VP+VU':'208',\n",
    "'PARTNER K9 VU':'PARTNER K9',\n",
    "'308 T9 BL VP+VU':'308',\n",
    "'B9 VP':'B9',\n",
    "'K0 AP VP B':\"K0 A¨P\",\n",
    "\"PARTNER K9 VP\":\"PARTNER K9\",\n",
    "\"508 R8 BL\":\"508 R8\",\n",
    "'K0 AP VU':'K0 AP',\n",
    "'308 SW T9':'308',\n",
    "\"K0 AP VP H\":\"K0 AP\",\n",
    "\"508 R8 SW\":\"508 R8\",\n",
    "'208 P21 ELEC':'208 P21',\n",
    "'3008 P84 PHEV':'3008 P84',\n",
    "'508 R83 PHEV':'508 R8',\n",
    "'508 R82 PHEV':'508 R8',\n",
    "'PARTNER B9 VU ELECTRIQUE':'PARTNER K9',\n",
    "'2008 P24 ELEC':'2008 P24 ELEC',\n",
    "'K0 AP VU ELEC':'K0 AP',\n",
    "'B9 VU':'B9',\n",
    "'208 P21 VU':'208 P21',\n",
    "'K0 AP VP ELEC':'K0 AP',\n",
    "'BIPPER VU':'BIPPER',\n",
    "'K0 AP VP H CKD':'K0 AP',\n",
    "'3008 P84 CKD NAM':'3008 P84',\n",
    "'5008 P87 CKD NAM':'5008 P87',\n",
    "'K0 AP VP RUSSIE':'K0 AP RUSSIE',\n",
    "'K0 AP VU RUSSIE':'K0 AP RUSSIE',\n",
    "'PARTNER VP':'PARTNER K9',\n",
    "'PARTNER VU':'PARTNER K10',\n",
    "'508 BERLINE TH':'508',\n",
    "'3008TH':'3008 P84'}\n",
    "\n",
    "dfOBJ['LIB SS FAM 2'] = dfOBJ['LIB SS FAM 2'].replace(column_value_fam)"
   ]
  },
  {
   "cell_type": "code",
   "execution_count": 45,
   "metadata": {},
   "outputs": [
    {
     "data": {
      "text/plain": [
       "<bound method NDFrame.astype of 0          0.000000\n",
       "1        470.706646\n",
       "2        320.296936\n",
       "3          0.000000\n",
       "4        532.385447\n",
       "            ...    \n",
       "52712    200.000000\n",
       "52713    600.000000\n",
       "52714    200.000000\n",
       "52715    200.000000\n",
       "52716    600.000000\n",
       "Name: Prime performance unit, Length: 53861, dtype: float64>"
      ]
     },
     "execution_count": 45,
     "metadata": {},
     "output_type": "execute_result"
    }
   ],
   "source": [
    "dfOBJ['Prime performance unit'].astype"
   ]
  },
  {
   "cell_type": "code",
   "execution_count": 54,
   "metadata": {},
   "outputs": [],
   "source": [
    "column_value_typutil={'VD/VA':'Demo vehicles',\n",
    "'VD/VS':'Demo vehicles','PARTICULIERS':'B2C','AUTRES SOCIETES':'B2B - Adm','GRANDS COMPTES':'B2B - Adm','LCD DIRECT':'Renters','LCD RESEAU':'Renters','PERSONNEL':'B2C'}\n",
    "\n",
    "dfOBJ['canal AE'] = dfOBJ['canal AE'].replace(column_value_typutil)"
   ]
  },
  {
   "cell_type": "code",
   "execution_count": 55,
   "metadata": {},
   "outputs": [],
   "source": [
    "column_value_typveh={'VP':'PC',\n",
    "'VU':'CV'}\n",
    "\n",
    "dfOBJ['TYPE'] = dfOBJ['TYPE'].replace(column_value_typveh)"
   ]
  },
  {
   "cell_type": "markdown",
   "metadata": {},
   "source": [
    "## Load madax on oracle"
   ]
  },
  {
   "cell_type": "code",
   "execution_count": 89,
   "metadata": {},
   "outputs": [],
   "source": [
    "#dfOBJ_spark = spark_session.createDataFrame(dfOBJ)\n",
    "dfOBJ_spark.write.jdbc(url=db_uri, table=\"SMKT015_REF_OBJ\", mode=\"overwrite\")"
   ]
  },
  {
   "cell_type": "code",
   "execution_count": 58,
   "metadata": {},
   "outputs": [],
   "source": [
    "#dfPROMO.write.mode(\"overwrite\").partitionBy(\"Country\").parquet(\"hdfs:///user/e587247/data/refined/ope/\")"
   ]
  }
 ],
 "metadata": {
  "kernelspec": {
   "display_name": "Python 3",
   "language": "python",
   "name": "python3"
  },
  "language_info": {
   "codemirror_mode": {
    "name": "ipython",
    "version": 3
   },
   "file_extension": ".py",
   "mimetype": "text/x-python",
   "name": "python",
   "nbconvert_exporter": "python",
   "pygments_lexer": "ipython3",
   "version": "3.6.4"
  }
 },
 "nbformat": 4,
 "nbformat_minor": 4
}
