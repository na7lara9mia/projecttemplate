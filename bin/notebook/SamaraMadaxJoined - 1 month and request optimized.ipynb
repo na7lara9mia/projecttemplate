{
 "cells": [
  {
   "cell_type": "markdown",
   "metadata": {},
   "source": [
    "<img src=\"media/logo_psa.jpg\" width=\"300\">\n",
    "\n",
    "<h1><center>Constructing MADAX U SAMARA</center></h1>"
   ]
  },
  {
   "cell_type": "markdown",
   "metadata": {},
   "source": [
    "## Imports"
   ]
  },
  {
   "cell_type": "code",
   "execution_count": 1,
   "metadata": {},
   "outputs": [
    {
     "name": "stdout",
     "output_type": "stream",
     "text": [
      "/gpfs/user/e587246/dco00/conf/application.yml\n",
      "/gpfs/user/e587246/dco00\n"
     ]
    }
   ],
   "source": [
    "%load_ext autoreload\n",
    "%autoreload 2\n",
    "import os\n",
    "import datetime\n",
    "import numpy as np\n",
    "import pandas as pd\n",
    "from functools import reduce\n",
    "pd.set_option('display.max_rows', 500)\n",
    "pd.set_option('display.max_columns', 100)\n",
    "\n",
    "from pyspark.sql import functions as F\n",
    "import pyspark.sql.types as StringType\n",
    "\n",
    "from distribution_cost.configuration import spark_config\n",
    "from distribution_cost.configuration.app import AppConfig\n",
    "from distribution_cost.configuration.data import DataConfig\n",
    "from distribution_cost.infra import oracle\n",
    "from distribution_cost.domain import kpis"
   ]
  },
  {
   "cell_type": "markdown",
   "metadata": {},
   "source": [
    "## Connection to Exadata (Optional)"
   ]
  },
  {
   "cell_type": "code",
   "execution_count": 2,
   "metadata": {},
   "outputs": [],
   "source": [
    "# Database uri\n",
    "app_config = AppConfig()\n",
    "\n",
    "db_uri = app_config.db_uri_jdbc\n",
    "db_uri_cx_oracle = app_config.db_uri_cx_oracle\n",
    "\n",
    "# Data Config\n",
    "data_config = DataConfig()\n",
    "\n",
    "data_config.vhls_perimeter\n",
    "\n",
    "sites = data_config.vhls_perimeter[\"sites\"]\n",
    "start_date = data_config.vhls_perimeter[\"start_date\"]\n",
    "end_date = data_config.vhls_perimeter[\"end_date\"]\n",
    "genr_door = data_config.vhls_perimeter[\"genr_door\"]"
   ]
  },
  {
   "cell_type": "markdown",
   "metadata": {},
   "source": [
    "## Creating Spark Session"
   ]
  },
  {
   "cell_type": "code",
   "execution_count": 3,
   "metadata": {},
   "outputs": [],
   "source": [
    "# Create spark session\n",
    "spark_context, spark_session = spark_config.get_spark(app_name=\"app-distribution-cost\",\n",
    "                                                      executors=3, executor_cores=4, executor_mem='8g',\n",
    "                                                      dynamic_allocation=True, max_executors=8)\n",
    "\n",
    "# spark_session.conf.set(\"spark.sql.crossJoin.enabled\", \"true\")\n",
    "# spark_session.conf.set(\"spark.sql.sources.partitionOverwriteMode\",\"dynamic\")"
   ]
  },
  {
   "cell_type": "markdown",
   "metadata": {},
   "source": [
    "## Loading the tables from HDFS"
   ]
  },
  {
   "cell_type": "code",
   "execution_count": null,
   "metadata": {},
   "outputs": [],
   "source": [
    "rangeMonths = pd.date_range(start = pd.to_datetime('1/08/2017',  dayfirst = True), \n",
    "                    periods = 31, freq = 'MS')\n",
    "\n",
    "# for m in rangeMonths:\n",
    "#    print(m)"
   ]
  },
  {
   "cell_type": "code",
   "execution_count": 4,
   "metadata": {},
   "outputs": [],
   "source": [
    "for i in range(len(rangeMonths-1))\n",
    "    # Read MADAX\n",
    "    df_madax = spark_session.read.load(\"/user/e587247/data/raw/madaxv30c/COUNTRY=France/year=\"+ rangeMonths[i].year +\"/month=\"+ rangeMonths[i].month)\n",
    "    # Read SAMARA\n",
    "    df_samara = spark_session.read.load(\"/user/e587247/data/raw/samarav30c/COUNTRY=France/year=\"+ rangeMonths[i].year +\"/month=\"+ rangeMonths[i].month)\n",
    "    # READ OPV\n",
    "    df_opv = spark_session.read.load(\"/user/e587247/data/raw/opvv30c/COUNTRY=France/year=\"+ rangeMonths[i].year +\"/month=\"+ rangeMonths[i].month)\n",
    "    # READ TAX RATE (FROM ORACLE DB)?\n",
    "    df_taxRate = spark_session.read.option(\"fetchsize\", 10000).jdbc(db_uri, table='SMKT003_REF_TAX')\n",
    "\n",
    "    # Renaming VIN column in madax, samara and opv and dropping year, month and day\n",
    "    df_samara=df_samara.withColumnRenamed('CODE_VIN','VIN').withColumn('COUNTRY',F.lit('France')).drop('day')\n",
    "    df_madax=df_madax.withColumnRenamed('NOVIN','VIN').withColumn('COUNTRY',F.lit('France')).drop('day')\n",
    "    df_opv=df_opv.withColumnRenamed('CDC_NUMVIN', 'VIN').withColumn('COUNTRY', F.lit('France')).drop('day')\n",
    "\n",
    "    # Make the outer join between MADAX and SAMARA on VIN and Country\n",
    "    df_mx_outer_sm = df_madax.join(df_samara,on=['COUNTRY','VIN'] , how='outer')\n",
    "\n",
    "    # Make the left join between OPV and MXSM on VIN and Country\n",
    "    df_mx_outer_sm_opv = df_mx_outer_sm.join(df_opv, on=['COUNTRY','VIN'], how='left_outer')\n",
    "\n",
    "    # Make the left join between tax rate and MXSM on VIN and Country\n",
    "    df_mx_outer_sm_opv = df_mx_outer_sm_opv.join(df_taxRate, on=['COUNTRY'], how='left_outer')\n",
    "\n",
    "    # Merge common columns between MADAX and SAMARA\n",
    "    df_mx_outer_sm_opv= df_mx_outer_sm_opv.withColumn('BRAND', F.when(F.col('MARQUE').isNull(),F.col('SINQTMRQ_2__CODE')).otherwise(F.col('MARQUE')))\n",
    "    df_mx_outer_sm_opv= df_mx_outer_sm_opv.withColumn('DATE_SALE', F.when(F.col('DATVENT').isNull(),F.col('DT_VD')).otherwise(F.col('DATVENT')))\n",
    "    df_mx_outer_sm_opv= df_mx_outer_sm_opv.withColumn('DATE_ORDER', F.when(F.col('DATCCLT').isNull(),F.col('DATE_COMANDE')).otherwise(F.col('DATCCLT')))\n",
    "    df_mx_outer_sm_opv= df_mx_outer_sm_opv.withColumn('LIB_TYPUTIL', F.when(F.col('TYPUTIL').isNull(),F.col('TYP_UTIL_VD')).otherwise(F.col('TYPUTIL')))\n",
    "    df_mx_outer_sm_opv=df_mx_outer_sm_opv.drop('MARQUE','DATVENT','DATCCLT','TYPUTIL','TYP_UTIL_VD','DATE_COMANDE','DT_VD','SINQTMRQ_2__CODE')\n",
    "\n",
    "    # Date formatting (dd-MM-yyyy)\n",
    "    list_dates = ['DATMEC','DATE_SALE','DATPROD','DATMRES','DATMAD','DATEXPC','DATARCR','DATE_ORDER',\"DATDEM\",\"DATIMMAT\",\"DT_FACT\"]\n",
    "    for d in list_dates:\n",
    "        df_mx_outer_sm_opv = df_mx_outer_sm_opv.withColumn(d, F.to_date(F.col(d),'yyyy-MM-dd'))\n",
    "\n",
    "    # Convert variables to float\n",
    "    list_amounts = ['TOTAL_REMISE','NCL_VO_VALON','NCL_VO_IMPAYUDAREC','TOTAL_REMISE_PRE'] \n",
    "    for a in list_amounts:\n",
    "        df_mx_outer_sm_opv = df_mx_outer_sm_opv.withColumn(a, F.regexp_replace(F.col(a),'\\,','.'))\n",
    "        df_mx_outer_sm_opv = df_mx_outer_sm_opv.withColumn(a, F.regexp_replace(F.col(a),'[^0-9\\-\\.]','').cast(\"float\"))\n",
    "\n",
    "        # Variable calculations\n",
    "    df_mx_outer_sm_opv=df_mx_outer_sm_opv.withColumn('TOT_ADV_AFT_TAX', F.abs(F.col('TOTAL_REMISE')) + F.col('NCL_VO_IMPAYUDAREC'))\n",
    "    df_mx_outer_sm_opv= df_mx_outer_sm_opv.withColumn('TOT_ADV_PRE_TAX', F.col('TOT_ADV_AFT_TAX')/(1+F.col('TAX_RATE').cast('float')))\n",
    "    df_mx_outer_sm_opv= df_mx_outer_sm_opv.withColumn('TRADE_IN_AID_PRE',  F.col('NCL_VO_IMPAYUDAREC')/(1+F.col('TAX_RATE').cast('float')))\n",
    "\n",
    "    df_mx_outer_sm_opv= df_mx_outer_sm_opv.withColumn('DISC_AFT', F.when((F.abs(F.col('TOTAL_REMISE_PRE')) > 0) & (F.col('NCL_VO_IMPAYUDAREC').isNull()) & (F.col('NCL_VO_VALON').isNull()),1).otherwise(F.when(((F.abs(F.col('TOTAL_REMISE_PRE')) > 0) & (F.col('NCL_VO_IMPAYUDAREC') == 0) & (F.col('NCL_VO_VALON') == 0)),1).otherwise(0)))\n",
    "    df_mx_outer_sm_opv= df_mx_outer_sm_opv.withColumn('DISC_PRE', F.when(((F.abs(F.col('TOTAL_REMISE_PRE')) <= 0) | (F.col('NCL_VO_IMPAYUDAREC')<= 0) | (F.col('NCL_VO_VALON')<= 0)),0).otherwise(1))\n",
    "    df_mx_outer_sm_opv= df_mx_outer_sm_opv.withColumn('VIN_DM',F.col('DISC_AFT')+F.col('DISC_PRE'))\n",
    "\n",
    "    df_mx_outer_sm_opv= df_mx_outer_sm_opv.withColumn('VEH_AGE',  F.datediff(F.col('DATE_ORDER'),F.col('DATPROD')))\n",
    "    df_mx_outer_sm_opv= df_mx_outer_sm_opv.withColumn('STOCK_AGE',F.when(F.col('VEH_AGE')> 0, F.col('VEH_AGE')).otherwise(F.lit(None)))\n",
    "    df_mx_outer_sm_opv= df_mx_outer_sm_opv.withColumn('DELIVERY_TIME', F.datediff(F.col('DATE_ORDER'),F.col('DATE_SALE'))*(-1))\n",
    "\n",
    "    # Select columns from MX-SM-OPV (only COD_PDV from OPV)\n",
    "    df_mx_outer_sm_opv=df_mx_outer_sm_opv.drop('LIB_ZDS','CRE_MARCA', 'DATE_COMANDE', 'NCL_PD_SUBTOTAL2', 'FINITION', 'ACC_PRE', 'NCL_VO_IMPAYUDAREC', 'FRAIS_ANEXXES', 'TOTAL_REMISE_PRE', 'TOTAL_REMISE', 'PRIX_FINAL', 'tarif+options_PRE', 'tarif+OPTTIONS', 'NCL_VO_PRIMACONVERSION', 'ACC', 'CONTRAT_SERVICE', 'BONUS_MALUS', 'NCL_VO_VALON', 'TRANSFORMATIONS', 'TAXE_PARAFISCALE', 'day','TAX_RATE')\n",
    "\n",
    "    # Cast all float values into string (for power bi format ??)\n",
    "    for c in df_mx_outer_sm_opv.columns:\n",
    "        df_mx_outer_sm_opv = df_mx_outer_sm_opv.withColumn(c, F.col(c).cast('string'))\n",
    "\n",
    "    df_mx_outer_sm_opv.drop_duplicates()\n",
    "    # df_mx_outer_sm_opv.select('VIN','Country').distinct().count()\n",
    "    # df_mx_outer_sm_opv\\\n",
    "#     .write\\\n",
    "#     .mode(\"overwrite\")\\\n",
    "#     .partitionBy(\"year\", \"month\", \"day\")\\\n",
    "#     .parquet(\"hdfs:///user/e587247/data/refined/mx_outer_sm/\")\n",
    "    df_mx_outer_sm_opv.write.option(\"truncate\", \"true\").jdbc(url=db_uri, table=\"SMKT013_MXUSM\", mode=\"overwrite\")"
   ]
  },
  {
   "cell_type": "markdown",
   "metadata": {},
   "source": [
    "### Writing the result in Oracle DB (Exadata)"
   ]
  },
  {
   "cell_type": "code",
   "execution_count": 14,
   "metadata": {},
   "outputs": [],
   "source": [
    "spark_session.stop()"
   ]
  }
 ],
 "metadata": {
  "kernelspec": {
   "display_name": "Python 3",
   "language": "python",
   "name": "python3"
  },
  "language_info": {
   "codemirror_mode": {
    "name": "ipython",
    "version": 3
   },
   "file_extension": ".py",
   "mimetype": "text/x-python",
   "name": "python",
   "nbconvert_exporter": "python",
   "pygments_lexer": "ipython3",
   "version": "3.6.4"
  }
 },
 "nbformat": 4,
 "nbformat_minor": 4
}
